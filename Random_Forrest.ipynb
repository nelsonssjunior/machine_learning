{
  "nbformat": 4,
  "nbformat_minor": 0,
  "metadata": {
    "colab": {
      "name": "Random Forrest",
      "provenance": []
    },
    "kernelspec": {
      "name": "python3",
      "display_name": "Python 3"
    },
    "language_info": {
      "name": "python"
    }
  },
  "cells": [
    {
      "cell_type": "code",
      "metadata": {
        "id": "Y9331HvrfWlz"
      },
      "source": [
        "# Biblioteca de modelagem de dados\n",
        "import pandas as pd\n",
        "\n",
        "# Biblioteca para recursos matemáricos\n",
        "import numpy as np\n",
        "\n",
        "# Biblioteca de pltagem de dados graficos\n",
        "import seaborn as sns\n",
        "import matplotlib.pyplot as plt\n",
        "\n",
        "# Biblioteca/Função para ignorar avisos\n",
        "from warnings import filterwarnings"
      ],
      "execution_count": 4,
      "outputs": []
    },
    {
      "cell_type": "code",
      "metadata": {
        "id": "s6LIbrt3fuFy"
      },
      "source": [
        "# PLan 1 - dados de treino e teste\n",
        "# Plan 2 - dados 'reais'\n",
        "\n",
        "base_dados = pd.read_excel('BaseDados_FlorestaDeDecisão.xlsx', )"
      ],
      "execution_count": 5,
      "outputs": []
    },
    {
      "cell_type": "code",
      "metadata": {
        "id": "bLrEl1YGfuMY",
        "colab": {
          "base_uri": "https://localhost:8080/",
          "height": 204
        },
        "outputId": "0c7d5d0f-114d-4f94-9d78-768baacb1fbd"
      },
      "source": [
        "# 1 = Não usou\n",
        "# 2 = Serviço\n",
        "# 3 = Furto\n",
        "\n",
        "base_dados.head(5)"
      ],
      "execution_count": 6,
      "outputs": [
        {
          "output_type": "execute_result",
          "data": {
            "text/html": [
              "<div>\n",
              "<style scoped>\n",
              "    .dataframe tbody tr th:only-of-type {\n",
              "        vertical-align: middle;\n",
              "    }\n",
              "\n",
              "    .dataframe tbody tr th {\n",
              "        vertical-align: top;\n",
              "    }\n",
              "\n",
              "    .dataframe thead th {\n",
              "        text-align: right;\n",
              "    }\n",
              "</style>\n",
              "<table border=\"1\" class=\"dataframe\">\n",
              "  <thead>\n",
              "    <tr style=\"text-align: right;\">\n",
              "      <th></th>\n",
              "      <th>Id Cliente</th>\n",
              "      <th>Idade</th>\n",
              "      <th>Preço Seguro</th>\n",
              "      <th>CEP</th>\n",
              "      <th>Serviço</th>\n",
              "    </tr>\n",
              "  </thead>\n",
              "  <tbody>\n",
              "    <tr>\n",
              "      <th>0</th>\n",
              "      <td>1</td>\n",
              "      <td>69</td>\n",
              "      <td>3930</td>\n",
              "      <td>19005</td>\n",
              "      <td>3</td>\n",
              "    </tr>\n",
              "    <tr>\n",
              "      <th>1</th>\n",
              "      <td>2</td>\n",
              "      <td>27</td>\n",
              "      <td>3336</td>\n",
              "      <td>19027</td>\n",
              "      <td>1</td>\n",
              "    </tr>\n",
              "    <tr>\n",
              "      <th>2</th>\n",
              "      <td>3</td>\n",
              "      <td>49</td>\n",
              "      <td>3936</td>\n",
              "      <td>19001</td>\n",
              "      <td>3</td>\n",
              "    </tr>\n",
              "    <tr>\n",
              "      <th>3</th>\n",
              "      <td>4</td>\n",
              "      <td>60</td>\n",
              "      <td>157</td>\n",
              "      <td>19009</td>\n",
              "      <td>1</td>\n",
              "    </tr>\n",
              "    <tr>\n",
              "      <th>4</th>\n",
              "      <td>5</td>\n",
              "      <td>51</td>\n",
              "      <td>3998</td>\n",
              "      <td>19050</td>\n",
              "      <td>2</td>\n",
              "    </tr>\n",
              "  </tbody>\n",
              "</table>\n",
              "</div>"
            ],
            "text/plain": [
              "   Id Cliente  Idade  Preço Seguro    CEP  Serviço\n",
              "0           1     69          3930  19005        3\n",
              "1           2     27          3336  19027        1\n",
              "2           3     49          3936  19001        3\n",
              "3           4     60           157  19009        1\n",
              "4           5     51          3998  19050        2"
            ]
          },
          "metadata": {
            "tags": []
          },
          "execution_count": 6
        }
      ]
    },
    {
      "cell_type": "code",
      "metadata": {
        "id": "oOUHTEfkfuUY",
        "colab": {
          "base_uri": "https://localhost:8080/"
        },
        "outputId": "bac20926-b18c-4561-c74d-6953aba71a1c"
      },
      "source": [
        "base_dados.info()"
      ],
      "execution_count": 7,
      "outputs": [
        {
          "output_type": "stream",
          "text": [
            "<class 'pandas.core.frame.DataFrame'>\n",
            "RangeIndex: 500 entries, 0 to 499\n",
            "Data columns (total 5 columns):\n",
            " #   Column        Non-Null Count  Dtype\n",
            "---  ------        --------------  -----\n",
            " 0   Id Cliente    500 non-null    int64\n",
            " 1   Idade         500 non-null    int64\n",
            " 2   Preço Seguro  500 non-null    int64\n",
            " 3   CEP           500 non-null    int64\n",
            " 4   Serviço       500 non-null    int64\n",
            "dtypes: int64(5)\n",
            "memory usage: 19.7 KB\n"
          ],
          "name": "stdout"
        }
      ]
    },
    {
      "cell_type": "code",
      "metadata": {
        "id": "perhwaWHfuZK",
        "colab": {
          "base_uri": "https://localhost:8080/",
          "height": 297
        },
        "outputId": "590695c7-bfac-42b5-f48b-452d3bfe013e"
      },
      "source": [
        "# Descrição da base\n",
        "\n",
        "base_dados.describe()"
      ],
      "execution_count": 8,
      "outputs": [
        {
          "output_type": "execute_result",
          "data": {
            "text/html": [
              "<div>\n",
              "<style scoped>\n",
              "    .dataframe tbody tr th:only-of-type {\n",
              "        vertical-align: middle;\n",
              "    }\n",
              "\n",
              "    .dataframe tbody tr th {\n",
              "        vertical-align: top;\n",
              "    }\n",
              "\n",
              "    .dataframe thead th {\n",
              "        text-align: right;\n",
              "    }\n",
              "</style>\n",
              "<table border=\"1\" class=\"dataframe\">\n",
              "  <thead>\n",
              "    <tr style=\"text-align: right;\">\n",
              "      <th></th>\n",
              "      <th>Id Cliente</th>\n",
              "      <th>Idade</th>\n",
              "      <th>Preço Seguro</th>\n",
              "      <th>CEP</th>\n",
              "      <th>Serviço</th>\n",
              "    </tr>\n",
              "  </thead>\n",
              "  <tbody>\n",
              "    <tr>\n",
              "      <th>count</th>\n",
              "      <td>500.000000</td>\n",
              "      <td>500.000000</td>\n",
              "      <td>500.000000</td>\n",
              "      <td>500.000000</td>\n",
              "      <td>500.000000</td>\n",
              "    </tr>\n",
              "    <tr>\n",
              "      <th>mean</th>\n",
              "      <td>250.500000</td>\n",
              "      <td>49.550000</td>\n",
              "      <td>1939.268000</td>\n",
              "      <td>19024.812000</td>\n",
              "      <td>1.904000</td>\n",
              "    </tr>\n",
              "    <tr>\n",
              "      <th>std</th>\n",
              "      <td>144.481833</td>\n",
              "      <td>18.167984</td>\n",
              "      <td>1402.289601</td>\n",
              "      <td>15.079105</td>\n",
              "      <td>0.858054</td>\n",
              "    </tr>\n",
              "    <tr>\n",
              "      <th>min</th>\n",
              "      <td>1.000000</td>\n",
              "      <td>18.000000</td>\n",
              "      <td>100.000000</td>\n",
              "      <td>19000.000000</td>\n",
              "      <td>1.000000</td>\n",
              "    </tr>\n",
              "    <tr>\n",
              "      <th>25%</th>\n",
              "      <td>125.750000</td>\n",
              "      <td>33.750000</td>\n",
              "      <td>612.000000</td>\n",
              "      <td>19011.000000</td>\n",
              "      <td>1.000000</td>\n",
              "    </tr>\n",
              "    <tr>\n",
              "      <th>50%</th>\n",
              "      <td>250.500000</td>\n",
              "      <td>51.000000</td>\n",
              "      <td>1667.500000</td>\n",
              "      <td>19025.000000</td>\n",
              "      <td>2.000000</td>\n",
              "    </tr>\n",
              "    <tr>\n",
              "      <th>75%</th>\n",
              "      <td>375.250000</td>\n",
              "      <td>65.000000</td>\n",
              "      <td>3329.500000</td>\n",
              "      <td>19038.000000</td>\n",
              "      <td>3.000000</td>\n",
              "    </tr>\n",
              "    <tr>\n",
              "      <th>max</th>\n",
              "      <td>500.000000</td>\n",
              "      <td>80.000000</td>\n",
              "      <td>3998.000000</td>\n",
              "      <td>19050.000000</td>\n",
              "      <td>3.000000</td>\n",
              "    </tr>\n",
              "  </tbody>\n",
              "</table>\n",
              "</div>"
            ],
            "text/plain": [
              "       Id Cliente       Idade  Preço Seguro           CEP     Serviço\n",
              "count  500.000000  500.000000    500.000000    500.000000  500.000000\n",
              "mean   250.500000   49.550000   1939.268000  19024.812000    1.904000\n",
              "std    144.481833   18.167984   1402.289601     15.079105    0.858054\n",
              "min      1.000000   18.000000    100.000000  19000.000000    1.000000\n",
              "25%    125.750000   33.750000    612.000000  19011.000000    1.000000\n",
              "50%    250.500000   51.000000   1667.500000  19025.000000    2.000000\n",
              "75%    375.250000   65.000000   3329.500000  19038.000000    3.000000\n",
              "max    500.000000   80.000000   3998.000000  19050.000000    3.000000"
            ]
          },
          "metadata": {
            "tags": []
          },
          "execution_count": 8
        }
      ]
    },
    {
      "cell_type": "code",
      "metadata": {
        "id": "A3Lc0kHofue5",
        "colab": {
          "base_uri": "https://localhost:8080/",
          "height": 1000
        },
        "outputId": "d0dc4d89-cb34-417a-b872-fb186a4b0c6f"
      },
      "source": [
        "# Explorando os dados\n",
        "\n",
        "sns.set(font_scale=1.5, rc={'figure.figsize':(20,20)})\n",
        "eixo = base_dados.hist(bins=20,color='purple')"
      ],
      "execution_count": 9,
      "outputs": [
        {
          "output_type": "display_data",
          "data": {
            "image/png": "[encoded data removed]",
            "text/plain": [
              "<Figure size 1440x1440 with 6 Axes>"
            ]
          },
          "metadata": {
            "tags": []
          }
        }
      ]
    },
    {
      "cell_type": "code",
      "metadata": {
        "colab": {
          "base_uri": "https://localhost:8080/",
          "height": 352
        },
        "id": "kNbJ6ejR0q5B",
        "outputId": "d86a126a-ad99-447f-a22a-f64b5e998df9"
      },
      "source": [
        "# Explorando dados\n",
        "\n",
        "plt.figure(figsize=(10,5))\n",
        "sns.boxplot(data=base_dados, x='Serviço', y='Idade');"
      ],
      "execution_count": 11,
      "outputs": [
        {
          "output_type": "display_data",
          "data": {
            "image/png": "[encoded data removed]",
            "text/plain": [
              "<Figure size 720x360 with 1 Axes>"
            ]
          },
          "metadata": {
            "tags": []
          }
        }
      ]
    },
    {
      "cell_type": "code",
      "metadata": {
        "colab": {
          "base_uri": "https://localhost:8080/",
          "height": 352
        },
        "id": "c3jyFJj70rFL",
        "outputId": "136799e5-812e-4c22-92df-6cd8c23f02cf"
      },
      "source": [
        "# explorando dados\n",
        "\n",
        "plt.figure(figsize=(10,5))\n",
        "sns.boxplot(data=base_dados, x='Serviço', y='Preço Seguro');"
      ],
      "execution_count": 12,
      "outputs": [
        {
          "output_type": "display_data",
          "data": {
            "image/png": "[encoded data removed]",
            "text/plain": [
              "<Figure size 720x360 with 1 Axes>"
            ]
          },
          "metadata": {
            "tags": []
          }
        }
      ]
    },
    {
      "cell_type": "code",
      "metadata": {
        "colab": {
          "base_uri": "https://localhost:8080/",
          "height": 352
        },
        "id": "J8mzlaAy0rMb",
        "outputId": "df88b818-7cd2-41e2-e76f-cc929695045b"
      },
      "source": [
        "plt.figure(figsize=(10,5))\n",
        "sns.boxplot(data=base_dados, x='Serviço', y='CEP');"
      ],
      "execution_count": 14,
      "outputs": [
        {
          "output_type": "display_data",
          "data": {
            "image/png": "[encoded data removed]",
            "text/plain": [
              "<Figure size 720x360 with 1 Axes>"
            ]
          },
          "metadata": {
            "tags": []
          }
        }
      ]
    },
    {
      "cell_type": "code",
      "metadata": {
        "id": "OE6NfjXU0rRU"
      },
      "source": [
        "# Fatiando as colunas para o teste\n",
        "\n",
        "caracteristicas = base_dados.iloc[:,1:4].values\n",
        "previsor = base_dados.iloc[:,4:5].values"
      ],
      "execution_count": 16,
      "outputs": []
    },
    {
      "cell_type": "code",
      "metadata": {
        "id": "aMsWHxb_0rWN"
      },
      "source": [
        "# importando a biblioteca para treino\n",
        "\n",
        "from sklearn.model_selection import train_test_split"
      ],
      "execution_count": 17,
      "outputs": []
    },
    {
      "cell_type": "code",
      "metadata": {
        "colab": {
          "base_uri": "https://localhost:8080/"
        },
        "id": "fc1tYyWj0rbP",
        "outputId": "dc6e4138-32cd-4530-aa2b-e77a138096c6"
      },
      "source": [
        "# Treianando o modelo\n",
        "\n",
        "x_treinamento, x_teste, y_treinamento, y_teste = train_test_split(\n",
        "    caracteristicas,\n",
        "    previsor,\n",
        "    test_size=0.30,\n",
        "    random_state=10\n",
        ")\n",
        "\n",
        "print(len(base_dados))\n",
        "print(len(x_treinamento))\n",
        "print(len(x_teste))"
      ],
      "execution_count": 18,
      "outputs": [
        {
          "output_type": "stream",
          "text": [
            "500\n",
            "350\n",
            "150\n"
          ],
          "name": "stdout"
        }
      ]
    },
    {
      "cell_type": "code",
      "metadata": {
        "id": "p6e2bW_Z0rgu"
      },
      "source": [
        "# Verificando a acuracia do modelo\n",
        "\n",
        "from sklearn.ensemble import RandomForestClassifier\n",
        "\n",
        "random_forrest = RandomForestClassifier(n_estimators=500, verbose=1)"
      ],
      "execution_count": 20,
      "outputs": []
    },
    {
      "cell_type": "code",
      "metadata": {
        "colab": {
          "base_uri": "https://localhost:8080/"
        },
        "id": "V7ku50JP5CVd",
        "outputId": "add2da9d-6d28-4c08-907e-9850b579de32"
      },
      "source": [
        "random_forrest.fit(x_treinamento,y_treinamento)"
      ],
      "execution_count": 21,
      "outputs": [
        {
          "output_type": "stream",
          "text": [
            "/usr/local/lib/python3.7/dist-packages/ipykernel_launcher.py:1: DataConversionWarning: A column-vector y was passed when a 1d array was expected. Please change the shape of y to (n_samples,), for example using ravel().\n",
            "  \"\"\"Entry point for launching an IPython kernel.\n",
            "[Parallel(n_jobs=1)]: Using backend SequentialBackend with 1 concurrent workers.\n",
            "[Parallel(n_jobs=1)]: Done 500 out of 500 | elapsed:    0.5s finished\n"
          ],
          "name": "stderr"
        },
        {
          "output_type": "execute_result",
          "data": {
            "text/plain": [
              "RandomForestClassifier(bootstrap=True, ccp_alpha=0.0, class_weight=None,\n",
              "                       criterion='gini', max_depth=None, max_features='auto',\n",
              "                       max_leaf_nodes=None, max_samples=None,\n",
              "                       min_impurity_decrease=0.0, min_impurity_split=None,\n",
              "                       min_samples_leaf=1, min_samples_split=2,\n",
              "                       min_weight_fraction_leaf=0.0, n_estimators=500,\n",
              "                       n_jobs=None, oob_score=False, random_state=None,\n",
              "                       verbose=1, warm_start=False)"
            ]
          },
          "metadata": {
            "tags": []
          },
          "execution_count": 21
        }
      ]
    },
    {
      "cell_type": "code",
      "metadata": {
        "colab": {
          "base_uri": "https://localhost:8080/",
          "height": 422
        },
        "id": "jT4QnLO35CZL",
        "outputId": "72a4adaa-a65e-4939-a339-7cc65d6cba1a"
      },
      "source": [
        "# Usando o restante dos dados da Plan1 para realizar o teste\n",
        "previsoes = random_forrest.predict(x_teste)\n",
        "\n",
        "#Gerando a matriz de confusão para teste do modelo\n",
        "from sklearn.metrics import confusion_matrix\n",
        "matriz_confusao = confusion_matrix(y_teste, previsoes)\n",
        "print(matriz_confusao)\n",
        "\n",
        "# Visualizando resultado do teste de precisão do modelo\n",
        "plt.figure(figsize=(10,5))\n",
        "sns.heatmap(matriz_confusao, annot=True);"
      ],
      "execution_count": 25,
      "outputs": [
        {
          "output_type": "stream",
          "text": [
            "[Parallel(n_jobs=1)]: Using backend SequentialBackend with 1 concurrent workers.\n",
            "[Parallel(n_jobs=1)]: Done 500 out of 500 | elapsed:    0.1s finished\n"
          ],
          "name": "stderr"
        },
        {
          "output_type": "stream",
          "text": [
            "[[60  3  1]\n",
            " [ 6 22  8]\n",
            " [ 1  1 48]]\n"
          ],
          "name": "stdout"
        },
        {
          "output_type": "display_data",
          "data": {
            "image/png": "[encoded data removed]",
            "text/plain": [
              "<Figure size 720x360 with 2 Axes>"
            ]
          },
          "metadata": {
            "tags": []
          }
        }
      ]
    },
    {
      "cell_type": "code",
      "metadata": {
        "colab": {
          "base_uri": "https://localhost:8080/"
        },
        "id": "P8D-L28K5Ccs",
        "outputId": "b6880d5a-f983-4a62-dd2b-6f187f357356"
      },
      "source": [
        "# Resultado da precisão do modelo\n",
        "\n",
        "from sklearn.metrics import classification_report\n",
        "\n",
        "report = classification_report(y_teste, previsoes)\n",
        "print(report)"
      ],
      "execution_count": 26,
      "outputs": [
        {
          "output_type": "stream",
          "text": [
            "              precision    recall  f1-score   support\n",
            "\n",
            "           1       0.90      0.94      0.92        64\n",
            "           2       0.85      0.61      0.71        36\n",
            "           3       0.84      0.96      0.90        50\n",
            "\n",
            "    accuracy                           0.87       150\n",
            "   macro avg       0.86      0.84      0.84       150\n",
            "weighted avg       0.87      0.87      0.86       150\n",
            "\n"
          ],
          "name": "stdout"
        }
      ]
    },
    {
      "cell_type": "code",
      "metadata": {
        "colab": {
          "base_uri": "https://localhost:8080/",
          "height": 204
        },
        "id": "NPNOq-fX5Cfr",
        "outputId": "0afdb41e-3cbd-483a-85d7-8fbb53256c85"
      },
      "source": [
        "#Importando a base para teste do modelo em \"produção\"\n",
        "\n",
        "novas_vendas = pd.read_excel('BaseDados_FlorestaDeDecisão.xlsx','Plan2')\n",
        "novas_vendas.head()"
      ],
      "execution_count": 27,
      "outputs": [
        {
          "output_type": "execute_result",
          "data": {
            "text/html": [
              "<div>\n",
              "<style scoped>\n",
              "    .dataframe tbody tr th:only-of-type {\n",
              "        vertical-align: middle;\n",
              "    }\n",
              "\n",
              "    .dataframe tbody tr th {\n",
              "        vertical-align: top;\n",
              "    }\n",
              "\n",
              "    .dataframe thead th {\n",
              "        text-align: right;\n",
              "    }\n",
              "</style>\n",
              "<table border=\"1\" class=\"dataframe\">\n",
              "  <thead>\n",
              "    <tr style=\"text-align: right;\">\n",
              "      <th></th>\n",
              "      <th>Id Cliente</th>\n",
              "      <th>Idade</th>\n",
              "      <th>Preço Seguro</th>\n",
              "      <th>CEP</th>\n",
              "    </tr>\n",
              "  </thead>\n",
              "  <tbody>\n",
              "    <tr>\n",
              "      <th>0</th>\n",
              "      <td>1001</td>\n",
              "      <td>25</td>\n",
              "      <td>801</td>\n",
              "      <td>19001</td>\n",
              "    </tr>\n",
              "    <tr>\n",
              "      <th>1</th>\n",
              "      <td>1002</td>\n",
              "      <td>27</td>\n",
              "      <td>1090</td>\n",
              "      <td>19027</td>\n",
              "    </tr>\n",
              "    <tr>\n",
              "      <th>2</th>\n",
              "      <td>1003</td>\n",
              "      <td>45</td>\n",
              "      <td>364</td>\n",
              "      <td>19030</td>\n",
              "    </tr>\n",
              "    <tr>\n",
              "      <th>3</th>\n",
              "      <td>1004</td>\n",
              "      <td>30</td>\n",
              "      <td>2428</td>\n",
              "      <td>19014</td>\n",
              "    </tr>\n",
              "    <tr>\n",
              "      <th>4</th>\n",
              "      <td>1005</td>\n",
              "      <td>32</td>\n",
              "      <td>891</td>\n",
              "      <td>19020</td>\n",
              "    </tr>\n",
              "  </tbody>\n",
              "</table>\n",
              "</div>"
            ],
            "text/plain": [
              "   Id Cliente  Idade  Preço Seguro    CEP\n",
              "0        1001     25           801  19001\n",
              "1        1002     27          1090  19027\n",
              "2        1003     45           364  19030\n",
              "3        1004     30          2428  19014\n",
              "4        1005     32           891  19020"
            ]
          },
          "metadata": {
            "tags": []
          },
          "execution_count": 27
        }
      ]
    },
    {
      "cell_type": "code",
      "metadata": {
        "colab": {
          "base_uri": "https://localhost:8080/"
        },
        "id": "W3LMkDSo-SCk",
        "outputId": "a706b530-c004-440b-f556-ce5f82f30938"
      },
      "source": [
        "# Realizando a predição com os novos dados e criando uma coluna para plotar o resultado\n",
        "\n",
        "prever = novas_vendas.iloc[:,1:4].values\n",
        "\n",
        "novas_vendas['Previsao do Modelo'] = random_forrest.predict(prever)"
      ],
      "execution_count": 28,
      "outputs": [
        {
          "output_type": "stream",
          "text": [
            "[Parallel(n_jobs=1)]: Using backend SequentialBackend with 1 concurrent workers.\n",
            "[Parallel(n_jobs=1)]: Done 500 out of 500 | elapsed:    0.1s finished\n"
          ],
          "name": "stderr"
        }
      ]
    },
    {
      "cell_type": "code",
      "metadata": {
        "colab": {
          "base_uri": "https://localhost:8080/"
        },
        "id": "ybe5-nPn_Rv0",
        "outputId": "7a537501-4409-4e87-9d5e-11533c5c050d"
      },
      "source": [
        "#Resultado da predição\n",
        "\n",
        "novas_vendas['Previsao do Modelo'].value_counts()"
      ],
      "execution_count": 33,
      "outputs": [
        {
          "output_type": "execute_result",
          "data": {
            "text/plain": [
              "1    15\n",
              "2     5\n",
              "3     1\n",
              "Name: Previsao do Modelo, dtype: int64"
            ]
          },
          "metadata": {
            "tags": []
          },
          "execution_count": 33
        }
      ]
    },
    {
      "cell_type": "code",
      "metadata": {
        "colab": {
          "base_uri": "https://localhost:8080/",
          "height": 700
        },
        "id": "-42R49ZE--EF",
        "outputId": "9e98dd87-b33b-4966-ce32-cad2980b2cfb"
      },
      "source": [
        "# Detalhe da predição\n",
        "\n",
        "novas_vendas"
      ],
      "execution_count": 29,
      "outputs": [
        {
          "output_type": "execute_result",
          "data": {
            "text/html": [
              "<div>\n",
              "<style scoped>\n",
              "    .dataframe tbody tr th:only-of-type {\n",
              "        vertical-align: middle;\n",
              "    }\n",
              "\n",
              "    .dataframe tbody tr th {\n",
              "        vertical-align: top;\n",
              "    }\n",
              "\n",
              "    .dataframe thead th {\n",
              "        text-align: right;\n",
              "    }\n",
              "</style>\n",
              "<table border=\"1\" class=\"dataframe\">\n",
              "  <thead>\n",
              "    <tr style=\"text-align: right;\">\n",
              "      <th></th>\n",
              "      <th>Id Cliente</th>\n",
              "      <th>Idade</th>\n",
              "      <th>Preço Seguro</th>\n",
              "      <th>CEP</th>\n",
              "      <th>Previsao do Modelo</th>\n",
              "    </tr>\n",
              "  </thead>\n",
              "  <tbody>\n",
              "    <tr>\n",
              "      <th>0</th>\n",
              "      <td>1001</td>\n",
              "      <td>25</td>\n",
              "      <td>801</td>\n",
              "      <td>19001</td>\n",
              "      <td>1</td>\n",
              "    </tr>\n",
              "    <tr>\n",
              "      <th>1</th>\n",
              "      <td>1002</td>\n",
              "      <td>27</td>\n",
              "      <td>1090</td>\n",
              "      <td>19027</td>\n",
              "      <td>1</td>\n",
              "    </tr>\n",
              "    <tr>\n",
              "      <th>2</th>\n",
              "      <td>1003</td>\n",
              "      <td>45</td>\n",
              "      <td>364</td>\n",
              "      <td>19030</td>\n",
              "      <td>1</td>\n",
              "    </tr>\n",
              "    <tr>\n",
              "      <th>3</th>\n",
              "      <td>1004</td>\n",
              "      <td>30</td>\n",
              "      <td>2428</td>\n",
              "      <td>19014</td>\n",
              "      <td>1</td>\n",
              "    </tr>\n",
              "    <tr>\n",
              "      <th>4</th>\n",
              "      <td>1005</td>\n",
              "      <td>32</td>\n",
              "      <td>891</td>\n",
              "      <td>19020</td>\n",
              "      <td>1</td>\n",
              "    </tr>\n",
              "    <tr>\n",
              "      <th>5</th>\n",
              "      <td>1006</td>\n",
              "      <td>36</td>\n",
              "      <td>823</td>\n",
              "      <td>19025</td>\n",
              "      <td>1</td>\n",
              "    </tr>\n",
              "    <tr>\n",
              "      <th>6</th>\n",
              "      <td>1007</td>\n",
              "      <td>44</td>\n",
              "      <td>3895</td>\n",
              "      <td>19032</td>\n",
              "      <td>3</td>\n",
              "    </tr>\n",
              "    <tr>\n",
              "      <th>7</th>\n",
              "      <td>1008</td>\n",
              "      <td>36</td>\n",
              "      <td>457</td>\n",
              "      <td>19023</td>\n",
              "      <td>1</td>\n",
              "    </tr>\n",
              "    <tr>\n",
              "      <th>8</th>\n",
              "      <td>1009</td>\n",
              "      <td>40</td>\n",
              "      <td>427</td>\n",
              "      <td>19008</td>\n",
              "      <td>1</td>\n",
              "    </tr>\n",
              "    <tr>\n",
              "      <th>9</th>\n",
              "      <td>1010</td>\n",
              "      <td>40</td>\n",
              "      <td>928</td>\n",
              "      <td>19009</td>\n",
              "      <td>1</td>\n",
              "    </tr>\n",
              "    <tr>\n",
              "      <th>10</th>\n",
              "      <td>1011</td>\n",
              "      <td>45</td>\n",
              "      <td>178</td>\n",
              "      <td>19003</td>\n",
              "      <td>1</td>\n",
              "    </tr>\n",
              "    <tr>\n",
              "      <th>11</th>\n",
              "      <td>1012</td>\n",
              "      <td>46</td>\n",
              "      <td>1923</td>\n",
              "      <td>19013</td>\n",
              "      <td>2</td>\n",
              "    </tr>\n",
              "    <tr>\n",
              "      <th>12</th>\n",
              "      <td>1013</td>\n",
              "      <td>48</td>\n",
              "      <td>2532</td>\n",
              "      <td>19039</td>\n",
              "      <td>2</td>\n",
              "    </tr>\n",
              "    <tr>\n",
              "      <th>13</th>\n",
              "      <td>1014</td>\n",
              "      <td>54</td>\n",
              "      <td>145</td>\n",
              "      <td>19049</td>\n",
              "      <td>1</td>\n",
              "    </tr>\n",
              "    <tr>\n",
              "      <th>14</th>\n",
              "      <td>1015</td>\n",
              "      <td>41</td>\n",
              "      <td>2883</td>\n",
              "      <td>19019</td>\n",
              "      <td>2</td>\n",
              "    </tr>\n",
              "    <tr>\n",
              "      <th>15</th>\n",
              "      <td>1016</td>\n",
              "      <td>44</td>\n",
              "      <td>563</td>\n",
              "      <td>19015</td>\n",
              "      <td>1</td>\n",
              "    </tr>\n",
              "    <tr>\n",
              "      <th>16</th>\n",
              "      <td>1017</td>\n",
              "      <td>60</td>\n",
              "      <td>157</td>\n",
              "      <td>19009</td>\n",
              "      <td>1</td>\n",
              "    </tr>\n",
              "    <tr>\n",
              "      <th>17</th>\n",
              "      <td>1018</td>\n",
              "      <td>74</td>\n",
              "      <td>1253</td>\n",
              "      <td>19049</td>\n",
              "      <td>2</td>\n",
              "    </tr>\n",
              "    <tr>\n",
              "      <th>18</th>\n",
              "      <td>1019</td>\n",
              "      <td>75</td>\n",
              "      <td>3148</td>\n",
              "      <td>19003</td>\n",
              "      <td>2</td>\n",
              "    </tr>\n",
              "    <tr>\n",
              "      <th>19</th>\n",
              "      <td>1020</td>\n",
              "      <td>20</td>\n",
              "      <td>560</td>\n",
              "      <td>19008</td>\n",
              "      <td>1</td>\n",
              "    </tr>\n",
              "    <tr>\n",
              "      <th>20</th>\n",
              "      <td>1021</td>\n",
              "      <td>32</td>\n",
              "      <td>1058</td>\n",
              "      <td>19017</td>\n",
              "      <td>1</td>\n",
              "    </tr>\n",
              "  </tbody>\n",
              "</table>\n",
              "</div>"
            ],
            "text/plain": [
              "    Id Cliente  Idade  Preço Seguro    CEP  Previsao do Modelo\n",
              "0         1001     25           801  19001                   1\n",
              "1         1002     27          1090  19027                   1\n",
              "2         1003     45           364  19030                   1\n",
              "3         1004     30          2428  19014                   1\n",
              "4         1005     32           891  19020                   1\n",
              "5         1006     36           823  19025                   1\n",
              "6         1007     44          3895  19032                   3\n",
              "7         1008     36           457  19023                   1\n",
              "8         1009     40           427  19008                   1\n",
              "9         1010     40           928  19009                   1\n",
              "10        1011     45           178  19003                   1\n",
              "11        1012     46          1923  19013                   2\n",
              "12        1013     48          2532  19039                   2\n",
              "13        1014     54           145  19049                   1\n",
              "14        1015     41          2883  19019                   2\n",
              "15        1016     44           563  19015                   1\n",
              "16        1017     60           157  19009                   1\n",
              "17        1018     74          1253  19049                   2\n",
              "18        1019     75          3148  19003                   2\n",
              "19        1020     20           560  19008                   1\n",
              "20        1021     32          1058  19017                   1"
            ]
          },
          "metadata": {
            "tags": []
          },
          "execution_count": 29
        }
      ]
    }
  ]
}