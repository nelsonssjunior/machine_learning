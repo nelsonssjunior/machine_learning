{
  "nbformat": 4,
  "nbformat_minor": 0,
  "metadata": {
    "colab": {
      "name": "Regressão_linear.ipynb",
      "provenance": []
    },
    "kernelspec": {
      "name": "python3",
      "display_name": "Python 3"
    },
    "language_info": {
      "name": "python"
    }
  },
  "cells": [
    {
      "cell_type": "code",
      "metadata": {
        "id": "cGTfWy4rBIsT"
      },
      "source": [
        "import pandas as pd\n",
        "import numpy as np\n",
        "import matplotlib.pyplot as plt\n",
        "import seaborn as sns"
      ],
      "execution_count": 1,
      "outputs": []
    },
    {
      "cell_type": "code",
      "metadata": {
        "colab": {
          "base_uri": "https://localhost:8080/",
          "height": 419
        },
        "id": "j4hjizyCBJcP",
        "outputId": "4bcc58cd-2812-4403-dec6-08184f3c0002"
      },
      "source": [
        "base_dados = pd.read_excel('BaseDados_RegressaoLinear.xlsx', 'Plan1')\n",
        "base_dados"
      ],
      "execution_count": 6,
      "outputs": [
        {
          "output_type": "execute_result",
          "data": {
            "text/html": [
              "<div>\n",
              "<style scoped>\n",
              "    .dataframe tbody tr th:only-of-type {\n",
              "        vertical-align: middle;\n",
              "    }\n",
              "\n",
              "    .dataframe tbody tr th {\n",
              "        vertical-align: top;\n",
              "    }\n",
              "\n",
              "    .dataframe thead th {\n",
              "        text-align: right;\n",
              "    }\n",
              "</style>\n",
              "<table border=\"1\" class=\"dataframe\">\n",
              "  <thead>\n",
              "    <tr style=\"text-align: right;\">\n",
              "      <th></th>\n",
              "      <th>Salario</th>\n",
              "      <th>Limite_Emprestimo</th>\n",
              "    </tr>\n",
              "  </thead>\n",
              "  <tbody>\n",
              "    <tr>\n",
              "      <th>0</th>\n",
              "      <td>1250.219130</td>\n",
              "      <td>2900.124323</td>\n",
              "    </tr>\n",
              "    <tr>\n",
              "      <th>1</th>\n",
              "      <td>1262.721321</td>\n",
              "      <td>2929.125566</td>\n",
              "    </tr>\n",
              "    <tr>\n",
              "      <th>2</th>\n",
              "      <td>1275.348535</td>\n",
              "      <td>2958.416822</td>\n",
              "    </tr>\n",
              "    <tr>\n",
              "      <th>3</th>\n",
              "      <td>1288.102020</td>\n",
              "      <td>2988.000990</td>\n",
              "    </tr>\n",
              "    <tr>\n",
              "      <th>4</th>\n",
              "      <td>1300.983040</td>\n",
              "      <td>3017.881000</td>\n",
              "    </tr>\n",
              "    <tr>\n",
              "      <th>...</th>\n",
              "      <td>...</td>\n",
              "      <td>...</td>\n",
              "    </tr>\n",
              "    <tr>\n",
              "      <th>94</th>\n",
              "      <td>3185.629581</td>\n",
              "      <td>7279.937858</td>\n",
              "    </tr>\n",
              "    <tr>\n",
              "      <th>95</th>\n",
              "      <td>3217.485877</td>\n",
              "      <td>7315.799621</td>\n",
              "    </tr>\n",
              "    <tr>\n",
              "      <th>96</th>\n",
              "      <td>3249.660736</td>\n",
              "      <td>7351.661384</td>\n",
              "    </tr>\n",
              "    <tr>\n",
              "      <th>97</th>\n",
              "      <td>3282.157343</td>\n",
              "      <td>7387.523147</td>\n",
              "    </tr>\n",
              "    <tr>\n",
              "      <th>98</th>\n",
              "      <td>3314.978916</td>\n",
              "      <td>7423.384910</td>\n",
              "    </tr>\n",
              "  </tbody>\n",
              "</table>\n",
              "<p>99 rows × 2 columns</p>\n",
              "</div>"
            ],
            "text/plain": [
              "        Salario  Limite_Emprestimo\n",
              "0   1250.219130        2900.124323\n",
              "1   1262.721321        2929.125566\n",
              "2   1275.348535        2958.416822\n",
              "3   1288.102020        2988.000990\n",
              "4   1300.983040        3017.881000\n",
              "..          ...                ...\n",
              "94  3185.629581        7279.937858\n",
              "95  3217.485877        7315.799621\n",
              "96  3249.660736        7351.661384\n",
              "97  3282.157343        7387.523147\n",
              "98  3314.978916        7423.384910\n",
              "\n",
              "[99 rows x 2 columns]"
            ]
          },
          "metadata": {
            "tags": []
          },
          "execution_count": 6
        }
      ]
    },
    {
      "cell_type": "code",
      "metadata": {
        "colab": {
          "base_uri": "https://localhost:8080/",
          "height": 204
        },
        "id": "HsjlzvRaBJfH",
        "outputId": "e88933a5-2605-4170-eba0-94f22a10a2f6"
      },
      "source": [
        "# Explorando a base\n",
        "\n",
        "base_dados.head()"
      ],
      "execution_count": 7,
      "outputs": [
        {
          "output_type": "execute_result",
          "data": {
            "text/html": [
              "<div>\n",
              "<style scoped>\n",
              "    .dataframe tbody tr th:only-of-type {\n",
              "        vertical-align: middle;\n",
              "    }\n",
              "\n",
              "    .dataframe tbody tr th {\n",
              "        vertical-align: top;\n",
              "    }\n",
              "\n",
              "    .dataframe thead th {\n",
              "        text-align: right;\n",
              "    }\n",
              "</style>\n",
              "<table border=\"1\" class=\"dataframe\">\n",
              "  <thead>\n",
              "    <tr style=\"text-align: right;\">\n",
              "      <th></th>\n",
              "      <th>Salario</th>\n",
              "      <th>Limite_Emprestimo</th>\n",
              "    </tr>\n",
              "  </thead>\n",
              "  <tbody>\n",
              "    <tr>\n",
              "      <th>0</th>\n",
              "      <td>1250.219130</td>\n",
              "      <td>2900.124323</td>\n",
              "    </tr>\n",
              "    <tr>\n",
              "      <th>1</th>\n",
              "      <td>1262.721321</td>\n",
              "      <td>2929.125566</td>\n",
              "    </tr>\n",
              "    <tr>\n",
              "      <th>2</th>\n",
              "      <td>1275.348535</td>\n",
              "      <td>2958.416822</td>\n",
              "    </tr>\n",
              "    <tr>\n",
              "      <th>3</th>\n",
              "      <td>1288.102020</td>\n",
              "      <td>2988.000990</td>\n",
              "    </tr>\n",
              "    <tr>\n",
              "      <th>4</th>\n",
              "      <td>1300.983040</td>\n",
              "      <td>3017.881000</td>\n",
              "    </tr>\n",
              "  </tbody>\n",
              "</table>\n",
              "</div>"
            ],
            "text/plain": [
              "       Salario  Limite_Emprestimo\n",
              "0  1250.219130        2900.124323\n",
              "1  1262.721321        2929.125566\n",
              "2  1275.348535        2958.416822\n",
              "3  1288.102020        2988.000990\n",
              "4  1300.983040        3017.881000"
            ]
          },
          "metadata": {
            "tags": []
          },
          "execution_count": 7
        }
      ]
    },
    {
      "cell_type": "code",
      "metadata": {
        "colab": {
          "base_uri": "https://localhost:8080/",
          "height": 359
        },
        "id": "p8QLcHVRBJiF",
        "outputId": "fe8c93fd-b87f-4ce6-eec2-bd5687dcf9b0"
      },
      "source": [
        "# final da base\n",
        "\n",
        "base_dados.tail(10)"
      ],
      "execution_count": 10,
      "outputs": [
        {
          "output_type": "execute_result",
          "data": {
            "text/html": [
              "<div>\n",
              "<style scoped>\n",
              "    .dataframe tbody tr th:only-of-type {\n",
              "        vertical-align: middle;\n",
              "    }\n",
              "\n",
              "    .dataframe tbody tr th {\n",
              "        vertical-align: top;\n",
              "    }\n",
              "\n",
              "    .dataframe thead th {\n",
              "        text-align: right;\n",
              "    }\n",
              "</style>\n",
              "<table border=\"1\" class=\"dataframe\">\n",
              "  <thead>\n",
              "    <tr style=\"text-align: right;\">\n",
              "      <th></th>\n",
              "      <th>Salario</th>\n",
              "      <th>Limite_Emprestimo</th>\n",
              "    </tr>\n",
              "  </thead>\n",
              "  <tbody>\n",
              "    <tr>\n",
              "      <th>89</th>\n",
              "      <td>3031.017240</td>\n",
              "      <td>7031.028889</td>\n",
              "    </tr>\n",
              "    <tr>\n",
              "      <th>90</th>\n",
              "      <td>3061.327412</td>\n",
              "      <td>7101.339178</td>\n",
              "    </tr>\n",
              "    <tr>\n",
              "      <th>91</th>\n",
              "      <td>3091.940686</td>\n",
              "      <td>7172.352570</td>\n",
              "    </tr>\n",
              "    <tr>\n",
              "      <th>92</th>\n",
              "      <td>3122.860093</td>\n",
              "      <td>7208.214332</td>\n",
              "    </tr>\n",
              "    <tr>\n",
              "      <th>93</th>\n",
              "      <td>3154.088694</td>\n",
              "      <td>7244.076095</td>\n",
              "    </tr>\n",
              "    <tr>\n",
              "      <th>94</th>\n",
              "      <td>3185.629581</td>\n",
              "      <td>7279.937858</td>\n",
              "    </tr>\n",
              "    <tr>\n",
              "      <th>95</th>\n",
              "      <td>3217.485877</td>\n",
              "      <td>7315.799621</td>\n",
              "    </tr>\n",
              "    <tr>\n",
              "      <th>96</th>\n",
              "      <td>3249.660736</td>\n",
              "      <td>7351.661384</td>\n",
              "    </tr>\n",
              "    <tr>\n",
              "      <th>97</th>\n",
              "      <td>3282.157343</td>\n",
              "      <td>7387.523147</td>\n",
              "    </tr>\n",
              "    <tr>\n",
              "      <th>98</th>\n",
              "      <td>3314.978916</td>\n",
              "      <td>7423.384910</td>\n",
              "    </tr>\n",
              "  </tbody>\n",
              "</table>\n",
              "</div>"
            ],
            "text/plain": [
              "        Salario  Limite_Emprestimo\n",
              "89  3031.017240        7031.028889\n",
              "90  3061.327412        7101.339178\n",
              "91  3091.940686        7172.352570\n",
              "92  3122.860093        7208.214332\n",
              "93  3154.088694        7244.076095\n",
              "94  3185.629581        7279.937858\n",
              "95  3217.485877        7315.799621\n",
              "96  3249.660736        7351.661384\n",
              "97  3282.157343        7387.523147\n",
              "98  3314.978916        7423.384910"
            ]
          },
          "metadata": {
            "tags": []
          },
          "execution_count": 10
        }
      ]
    },
    {
      "cell_type": "code",
      "metadata": {
        "colab": {
          "base_uri": "https://localhost:8080/"
        },
        "id": "jdwXsC1PBJlt",
        "outputId": "970644b0-8980-4247-db97-7ac4fa30c28b"
      },
      "source": [
        "# Colunas\n",
        "\n",
        "base_dados.columns"
      ],
      "execution_count": 12,
      "outputs": [
        {
          "output_type": "execute_result",
          "data": {
            "text/plain": [
              "Index(['Salario', 'Limite_Emprestimo'], dtype='object')"
            ]
          },
          "metadata": {
            "tags": []
          },
          "execution_count": 12
        }
      ]
    },
    {
      "cell_type": "code",
      "metadata": {
        "colab": {
          "base_uri": "https://localhost:8080/"
        },
        "id": "bAmdydhPHOwu",
        "outputId": "ac962d4c-bd1c-474b-e309-95d65771cdfa"
      },
      "source": [
        "base_dados.info()\n",
        "# resumo do dataframe com os tipos de dados"
      ],
      "execution_count": 15,
      "outputs": [
        {
          "output_type": "stream",
          "text": [
            "<class 'pandas.core.frame.DataFrame'>\n",
            "RangeIndex: 99 entries, 0 to 98\n",
            "Data columns (total 2 columns):\n",
            " #   Column             Non-Null Count  Dtype  \n",
            "---  ------             --------------  -----  \n",
            " 0   Salario            99 non-null     float64\n",
            " 1   Limite_Emprestimo  99 non-null     float64\n",
            "dtypes: float64(2)\n",
            "memory usage: 1.7 KB\n"
          ],
          "name": "stdout"
        }
      ]
    },
    {
      "cell_type": "code",
      "metadata": {
        "colab": {
          "base_uri": "https://localhost:8080/",
          "height": 297
        },
        "id": "tY1fJuzIHUvd",
        "outputId": "0a147b04-e66f-4536-d76d-2d8e9c2281bd"
      },
      "source": [
        "base_dados.describe()"
      ],
      "execution_count": 16,
      "outputs": [
        {
          "output_type": "execute_result",
          "data": {
            "text/html": [
              "<div>\n",
              "<style scoped>\n",
              "    .dataframe tbody tr th:only-of-type {\n",
              "        vertical-align: middle;\n",
              "    }\n",
              "\n",
              "    .dataframe tbody tr th {\n",
              "        vertical-align: top;\n",
              "    }\n",
              "\n",
              "    .dataframe thead th {\n",
              "        text-align: right;\n",
              "    }\n",
              "</style>\n",
              "<table border=\"1\" class=\"dataframe\">\n",
              "  <thead>\n",
              "    <tr style=\"text-align: right;\">\n",
              "      <th></th>\n",
              "      <th>Salario</th>\n",
              "      <th>Limite_Emprestimo</th>\n",
              "    </tr>\n",
              "  </thead>\n",
              "  <tbody>\n",
              "    <tr>\n",
              "      <th>count</th>\n",
              "      <td>99.000000</td>\n",
              "      <td>99.000000</td>\n",
              "    </tr>\n",
              "    <tr>\n",
              "      <th>mean</th>\n",
              "      <td>2119.100581</td>\n",
              "      <td>4900.652060</td>\n",
              "    </tr>\n",
              "    <tr>\n",
              "      <th>std</th>\n",
              "      <td>600.832983</td>\n",
              "      <td>1378.113961</td>\n",
              "    </tr>\n",
              "    <tr>\n",
              "      <th>min</th>\n",
              "      <td>1250.219130</td>\n",
              "      <td>2900.124323</td>\n",
              "    </tr>\n",
              "    <tr>\n",
              "      <th>25%</th>\n",
              "      <td>1595.383780</td>\n",
              "      <td>3700.800280</td>\n",
              "    </tr>\n",
              "    <tr>\n",
              "      <th>50%</th>\n",
              "      <td>2035.792243</td>\n",
              "      <td>4722.412623</td>\n",
              "    </tr>\n",
              "    <tr>\n",
              "      <th>75%</th>\n",
              "      <td>2597.840528</td>\n",
              "      <td>6026.191986</td>\n",
              "    </tr>\n",
              "    <tr>\n",
              "      <th>max</th>\n",
              "      <td>3314.978916</td>\n",
              "      <td>7423.384910</td>\n",
              "    </tr>\n",
              "  </tbody>\n",
              "</table>\n",
              "</div>"
            ],
            "text/plain": [
              "           Salario  Limite_Emprestimo\n",
              "count    99.000000          99.000000\n",
              "mean   2119.100581        4900.652060\n",
              "std     600.832983        1378.113961\n",
              "min    1250.219130        2900.124323\n",
              "25%    1595.383780        3700.800280\n",
              "50%    2035.792243        4722.412623\n",
              "75%    2597.840528        6026.191986\n",
              "max    3314.978916        7423.384910"
            ]
          },
          "metadata": {
            "tags": []
          },
          "execution_count": 16
        }
      ]
    },
    {
      "cell_type": "code",
      "metadata": {
        "id": "bNO7QIqMHkRK"
      },
      "source": [
        "# converter valores para um Array\n",
        "\n",
        "eixo_x = base_dados.iloc[:,0].values\n",
        "eixo_y = base_dados.iloc[:,1].values"
      ],
      "execution_count": 17,
      "outputs": []
    },
    {
      "cell_type": "code",
      "metadata": {
        "colab": {
          "base_uri": "https://localhost:8080/"
        },
        "id": "UtBo7MblIJ0Z",
        "outputId": "f3a315c4-f503-4eb8-bded-7bbcc32501fa"
      },
      "source": [
        "eixo_x"
      ],
      "execution_count": 18,
      "outputs": [
        {
          "output_type": "execute_result",
          "data": {
            "text/plain": [
              "array([1250.21913   , 1262.7213213 , 1275.34853451, 1288.10201986,\n",
              "       1300.98304006, 1313.99287046, 1327.13279916, 1340.40412715,\n",
              "       1353.80816843, 1367.34625011, 1381.01971261, 1394.82990974,\n",
              "       1408.77820883, 1422.86599092, 1437.09465083, 1451.46559734,\n",
              "       1465.98025331, 1480.64005585, 1495.4464564 , 1510.40092097,\n",
              "       1525.50493018, 1540.75997948, 1556.16757927, 1571.72925507,\n",
              "       1587.44654762, 1603.32101309, 1619.35422323, 1635.54776546,\n",
              "       1651.90324311, 1668.42227554, 1685.1064983 , 1701.95756328,\n",
              "       1718.97713891, 1736.1669103 , 1753.52857941, 1771.0638652 ,\n",
              "       1788.77450385, 1806.66224889, 1824.72887138, 1842.97616009,\n",
              "       1861.4059217 , 1880.01998091, 1898.82018072, 1917.80838253,\n",
              "       1936.98646635, 1956.35633102, 1975.91989433, 1995.67909327,\n",
              "       2015.6358842 , 2035.79224305, 2056.15016548, 2076.71166713,\n",
              "       2097.4787838 , 2118.45357164, 2139.63810736, 2161.03448843,\n",
              "       2182.64483331, 2204.47128165, 2226.51599446, 2248.78115441,\n",
              "       2271.26896595, 2293.98165561, 2316.92147217, 2340.09068689,\n",
              "       2363.49159376, 2387.1265097 , 2410.99777479, 2435.10775254,\n",
              "       2459.45883007, 2484.05341837, 2508.89395255, 2533.98289208,\n",
              "       2559.322721  , 2584.91594821, 2610.76510769, 2636.87275877,\n",
              "       2663.24148635, 2689.87390122, 2716.77264023, 2743.94036663,\n",
              "       2771.3797703 , 2799.093568  , 2827.08450368, 2855.35534872,\n",
              "       2883.90890221, 2912.74799123, 2941.87547114, 2971.29422585,\n",
              "       3001.00716811, 3031.01723979, 3061.32741219, 3091.94068631,\n",
              "       3122.86009317, 3154.08869411, 3185.62958105, 3217.48587686,\n",
              "       3249.66073563, 3282.15734298, 3314.97891641])"
            ]
          },
          "metadata": {
            "tags": []
          },
          "execution_count": 18
        }
      ]
    },
    {
      "cell_type": "code",
      "metadata": {
        "colab": {
          "base_uri": "https://localhost:8080/"
        },
        "id": "fQV3lgwqIL_3",
        "outputId": "809efa49-6bc9-4ca9-ec93-1c4d0e42bf86"
      },
      "source": [
        "eixo_y"
      ],
      "execution_count": 19,
      "outputs": [
        {
          "output_type": "execute_result",
          "data": {
            "text/plain": [
              "array([2900.124323  , 2929.12556623, 2958.41682189, 2988.00099011,\n",
              "       3017.88100001, 3048.05981001, 3078.54040811, 3109.32581219,\n",
              "       3140.41907032, 3171.82326102, 3203.54149363, 3235.57690857,\n",
              "       3267.93267765, 3300.61200443, 3333.61812447, 3366.95430572,\n",
              "       3400.62384877, 3434.63008726, 3434.63008726, 3434.63008726,\n",
              "       3434.63008726, 3574.08984167, 3609.83074009, 3645.92904749,\n",
              "       3682.38833796, 3719.21222134, 3756.40434356, 3793.96838699,\n",
              "       3831.90807086, 3870.22715157, 3870.22715157, 3870.22715157,\n",
              "       3870.22715157, 4027.37389354, 4067.64763247, 4108.3241088 ,\n",
              "       4149.40734988, 4190.90142338, 4232.81043762, 4275.13854199,\n",
              "       4317.88992741, 4361.06882669, 4404.67951495, 4448.7263101 ,\n",
              "       4493.2135732 , 4538.14570894, 4583.52716602, 4629.36243768,\n",
              "       4675.65606206, 4722.41262268, 4769.63674891, 4817.3331164 ,\n",
              "       4865.50644756, 4914.16151204, 4963.30312716, 5012.93615843,\n",
              "       5063.06552001, 5113.69617521, 5164.83313697, 5216.48146834,\n",
              "       5268.64628302, 5321.33274585, 5374.54607331, 5428.29153404,\n",
              "       5482.57444938, 5537.40019388, 5592.77419581, 5648.70193777,\n",
              "       5705.18895715, 5762.24084672, 5819.86325519, 5878.06188774,\n",
              "       5936.84250662, 5996.21093168, 6056.173041  , 6116.73477141,\n",
              "       6177.90211913, 6239.68114032, 6302.07795172, 6365.09873124,\n",
              "       6428.74971855, 6493.03721573, 6557.96758789, 6623.54726377,\n",
              "       6689.78273641, 6756.68056377, 6824.24736941, 6892.4898431 ,\n",
              "       6961.41474154, 7031.02888895, 7101.33917784, 7172.35256962,\n",
              "       7208.21433247, 7244.07609532, 7279.93785816, 7315.79962101,\n",
              "       7351.66138386, 7387.52314671, 7423.38490956])"
            ]
          },
          "metadata": {
            "tags": []
          },
          "execution_count": 19
        }
      ]
    },
    {
      "cell_type": "code",
      "metadata": {
        "colab": {
          "base_uri": "https://localhost:8080/",
          "height": 350
        },
        "id": "kJfs__QHINyC",
        "outputId": "66cf1eef-f994-4c0d-e475-4c4a818536d1"
      },
      "source": [
        "# Editando o primeiro gráfico\n",
        "\n",
        "plt.figure(figsize=(10,5))\n",
        "plt.scatter(eixo_x, eixo_y)\n",
        "plt.title('Grafico com 2 eixos [Salario x Limite]')\n",
        "plt.xlabel('Salário')\n",
        "plt.ylabel('Limite');"
      ],
      "execution_count": 22,
      "outputs": [
        {
          "output_type": "display_data",
          "data": {
            "image/png": "[encoded data removed]",
            "text/plain": [
              "<Figure size 720x360 with 1 Axes>"
            ]
          },
          "metadata": {
            "tags": [],
            "needs_background": "light"
          }
        }
      ]
    },
    {
      "cell_type": "code",
      "metadata": {
        "colab": {
          "base_uri": "https://localhost:8080/",
          "height": 325
        },
        "id": "WcMnvdhFIiK5",
        "outputId": "02cd8a26-10d8-458f-99b7-b56568f1dea2"
      },
      "source": [
        "#Verificando valores nilos na base de dados\n",
        "plt.figure(figsize=(10,5))\n",
        "sns.heatmap(base_dados.isnull());"
      ],
      "execution_count": 23,
      "outputs": [
        {
          "output_type": "display_data",
          "data": {
            "image/png": "[encoded data removed]",
            "text/plain": [
              "<Figure size 720x360 with 2 Axes>"
            ]
          },
          "metadata": {
            "tags": [],
            "needs_background": "light"
          }
        }
      ]
    },
    {
      "cell_type": "code",
      "metadata": {
        "colab": {
          "base_uri": "https://localhost:8080/",
          "height": 374
        },
        "id": "J4wTwM1BJrEo",
        "outputId": "8ee0095e-d4e4-4205-a0cc-f91d72571ab0"
      },
      "source": [
        "#Comparação dos dados salario x limite\n",
        "sns.pairplot(base_dados);"
      ],
      "execution_count": 24,
      "outputs": [
        {
          "output_type": "display_data",
          "data": {
            "image/png": "[encoded data removed]",
            "text/plain": [
              "<Figure size 360x360 with 6 Axes>"
            ]
          },
          "metadata": {
            "tags": [],
            "needs_background": "light"
          }
        }
      ]
    },
    {
      "cell_type": "code",
      "metadata": {
        "colab": {
          "base_uri": "https://localhost:8080/"
        },
        "id": "4VKohy7FJ-e1",
        "outputId": "e0f780d5-adc4-4bfb-f51c-155875a4af41"
      },
      "source": [
        "# Gerando a correlação entre os dados\n",
        "\n",
        "correlacao = np.corrcoef(eixo_x, eixo_y)\n",
        "correlacao"
      ],
      "execution_count": 25,
      "outputs": [
        {
          "output_type": "execute_result",
          "data": {
            "text/plain": [
              "array([[1.        , 0.99949773],\n",
              "       [0.99949773, 1.        ]])"
            ]
          },
          "metadata": {
            "tags": []
          },
          "execution_count": 25
        }
      ]
    },
    {
      "cell_type": "code",
      "metadata": {
        "colab": {
          "base_uri": "https://localhost:8080/",
          "height": 324
        },
        "id": "uDr6c8YFKdy0",
        "outputId": "cb961fd8-80fd-4845-c329-dbee072ea265"
      },
      "source": [
        "#Visualização gráfica da correlação\n",
        "plt.figure(figsize=(10,5))\n",
        "sns.heatmap(correlacao, annot=True);"
      ],
      "execution_count": 27,
      "outputs": [
        {
          "output_type": "display_data",
          "data": {
            "image/png": "[encoded data removed]",
            "text/plain": [
              "<Figure size 720x360 with 2 Axes>"
            ]
          },
          "metadata": {
            "tags": [],
            "needs_background": "light"
          }
        }
      ]
    },
    {
      "cell_type": "code",
      "metadata": {
        "id": "mGL1pd9YLkEi"
      },
      "source": [
        "#Tranformando em Matriz\n",
        "\n",
        "eixo_x = eixo_x.reshape(-1, 1)\n",
        "eixo_y = eixo_y.reshape(-1, 1)"
      ],
      "execution_count": 29,
      "outputs": []
    },
    {
      "cell_type": "code",
      "metadata": {
        "id": "y3KEgkEKMJA3"
      },
      "source": [
        "# Particionando os dados para o modelo de teste e aplicação efetiva\n",
        "\n",
        "from sklearn.model_selection import train_test_split\n",
        "\n",
        "x_treinamento, x_teste, y_treinamento, y_teste = train_test_split(\n",
        "    eixo_x,\n",
        "    eixo_y,\n",
        "    test_size=0.20\n",
        ")\n"
      ],
      "execution_count": 31,
      "outputs": []
    },
    {
      "cell_type": "code",
      "metadata": {
        "colab": {
          "base_uri": "https://localhost:8080/"
        },
        "id": "3PT9mgzxNSV2",
        "outputId": "91675ef2-a6e2-47f3-9a38-b428d65b39d5"
      },
      "source": [
        "# conferindo o quantitativo de dados\n",
        "\n",
        "print(len(x_treinamento), len(x_teste));"
      ],
      "execution_count": 32,
      "outputs": [
        {
          "output_type": "stream",
          "text": [
            "79 20\n"
          ],
          "name": "stdout"
        }
      ]
    },
    {
      "cell_type": "code",
      "metadata": {
        "colab": {
          "base_uri": "https://localhost:8080/"
        },
        "id": "ZGuvxB--Noaz",
        "outputId": "585ff3f2-3fe6-4406-d0b1-5c6a261f7178"
      },
      "source": [
        "# Realizando a regressao\n",
        "\n",
        "from sklearn.linear_model import LinearRegression\n",
        "\n",
        "funcao_regressao = LinearRegression()\n",
        "\n",
        "funcao_regressao.fit(x_treinamento, y_treinamento)"
      ],
      "execution_count": 41,
      "outputs": [
        {
          "output_type": "execute_result",
          "data": {
            "text/plain": [
              "LinearRegression(copy_X=True, fit_intercept=True, n_jobs=None, normalize=False)"
            ]
          },
          "metadata": {
            "tags": []
          },
          "execution_count": 41
        }
      ]
    },
    {
      "cell_type": "code",
      "metadata": {
        "colab": {
          "base_uri": "https://localhost:8080/"
        },
        "id": "TSFP6Pb4OVHY",
        "outputId": "b900f62f-78f7-49d3-dce9-31b87d905a74"
      },
      "source": [
        "funcao_regressao.score(x_treinamento, y_treinamento)"
      ],
      "execution_count": 42,
      "outputs": [
        {
          "output_type": "execute_result",
          "data": {
            "text/plain": [
              "0.9992307269325439"
            ]
          },
          "metadata": {
            "tags": []
          },
          "execution_count": 42
        }
      ]
    },
    {
      "cell_type": "code",
      "metadata": {
        "colab": {
          "base_uri": "https://localhost:8080/",
          "height": 320
        },
        "id": "queUO4TaU0bK",
        "outputId": "b55971e9-92b4-4cf9-de75-f4d3ac02af30"
      },
      "source": [
        "plt.figure(figsize=(10,5))\n",
        "plt.scatter(x_treinamento, y_treinamento)\n",
        "plt.plot(x_teste, funcao_regressao.predict(x_teste), color='red');"
      ],
      "execution_count": 43,
      "outputs": [
        {
          "output_type": "display_data",
          "data": {
            "image/png": "[encoded data removed]",
            "text/plain": [
              "<Figure size 720x360 with 1 Axes>"
            ]
          },
          "metadata": {
            "tags": [],
            "needs_background": "light"
          }
        }
      ]
    },
    {
      "cell_type": "markdown",
      "metadata": {
        "id": "CV_ELhfYX-X3"
      },
      "source": [
        "![formula.JPG](data:image/jpeg;base64,/9j/4AAQSkZJRgABAQEAYABgAAD/4REoRXhpZgAATU0AKgAAAAgABAE7AAIAAAAfAAAISodpAAQAAAABAAAIapydAAEAAAA+AAAQ4uocAAcAAAgMAAAAPgAAAAAc6gAAAAgAAAAAAAAAAAAAAAAAAAAAAAAAAAAAAAAAAAAAAAAAAAAAAAAAAAAAAAAAAAAAAAAAAAAAAAAAAAAAAAAAAAAAAAAAAAAAAAAAAAAAAAAAAAAAAAAAAAAAAAAAAAAAAAAAAAAAAAAAAAAAAAAAAAAAAAAAAAAAAAAAAAAAAAAAAAAAAAAAAAAAAAAAAAAAAAAAAAAAAAAAAAAAAAAAAAAAAAAAAAAAAAAAAAAAAAAAAAAAAAAAAAAAAAAAAAAAAAAAAAAAAAAAAAAAAAAAAAAAAAAAAAAAAAAAAAAAAAAAAAAAAAAAAAAAAAAAAAAAAAAAAAAAAAAAAAAAAAAAAAAAAAAAAAAAAAAAAAAAAAAAAAAAAAAAAAAAAAAAAAAAAAAAAAAAAAAAAAAAAAAAAAAAAAAAAAAAAAAAAAAAAAAAAAAAAAAAAAAAAAAAAAAAAAAAAAAAAAAAAAAAAAAAAAAAAAAAAAAAAAAAAAAAAAAAAAAAAAAAAAAAAAAAAAAAAAAAAAAAAAAAAAAAAAAAAAAAAAAAAAAAAAAAAAAAAAAAAAAAAAAAAAAAAAAAAAAAAAAAAAAAAAAAAAAAAAAAAAAAAAAAAAAAAAAAAAAAAAAAAAAAAAAAAAAAAAAAAAAAAAAAAAAAAAAAAAAAAAAAAAAAAAAAAAAAAAAAAAAAAAAAAAAAAAAAAAAAAAAAAAAAAAAAAAAAAAAAAAAAAAAAAAAAAAAAAAAAAAAAAAAAAAAAAAAAAAAAAAAAAAAAAAAAAAAAAAAAAAAAAAAAAAAAAAAAAAAAAAAAAAAAAAAAAAAAAAAAAAAAAAAAAAAAAAAAAAAAAAAAAAAAAAAAAAAAAAAAAAAAAAAAAAAAAAAAAAAAAAAAAAAAAAAAAAAAAAAAAAAAAAAAAAAAAAAAAAAAAAAAAAAAAAAAAAAAAAAAAAAAAAAAAAAAAAAAAAAAAAAAAAAAAAAAAAAAAAAAAAAAAAAAAAAAAAAAAAAAAAAAAAAAAAAAAAAAAAAAAAAAAAAAAAAAAAAAAAAAAAAAAAAAAAAAAAAAAAAAAAAAAAAAAAAAAAAAAAAAAAAAAAAAAAAAAAAAAAAAAAAAAAAAAAAAAAAAAAAAAAAAAAAAAAAAAAAAAAAAAAAAAAAAAAAAAAAAAAAAAAAAAAAAAAAAAAAAAAAAAAAAAAAAAAAAAAAAAAAAAAAAAAAAAAAAAAAAAAAAAAAAAAAAAAAAAAAAAAAAAAAAAAAAAAAAAAAAAAAAAAAAAAAAAAAAAAAAAAAAAAAAAAAAAAAAAAAAAAAAAAAAAAAAAAAAAAAAAAAAAAAAAAAAAAAAAAAAAAAAAAAAAAAAAAAAAAAAAAAAAAAAAAAAAAAAAAAAAAAAAAAAAAAAAAAAAAAAAAAAAAAAAAAAAAAAAAAAAAAAAAAAAAAAAAAAAAAAAAAAAAAAAAAAAAAAAAAAAAAAAAAAAAAAAAAAAAAAAAAAAAAAAAAAAAAAAAAAAAAAAAAAAAAAAAAAAAAAAAAAAAAAAAAAAAAAAAAAAAAAAAAAAAAAAAAAAAAAAAAAAAAAAAAAAAAAAAAAAAAAAAAAAAAAAAAAAAAAAAAAAAAAAAAAAAAAAAAAAAAAAAAAAAAAAAAAAAAAAAAAAAAAAAAAAAAAAAAAAAAAAAAAAAAAAAAAAAAAAAAAAAAAAAAAAAAAAAAAAAAAAAAAAAAAAAAAAAAAAAAAAAAAAAAAAAAAAAAAAAAAAAAAAAAAAAAAAAAAAAAAAAAAAAAAAAAAAAAAAAAAAAAAAAAAAAAAAAAAAAAAAAAAAAAAAAAAAAAAAAAAAAAAAAAAAAAAAAAAAAAAAAAAAAAAAAAAAAAAAAAAAAAAAAAAAAAAAAAAAAAAAAAAAAAAAAAAAAAAAAAAAAAAAAAAAAAAAAAAAAAAAAAAAAAAAAAAAAAAAAAAAAAAAAAAAAAAAAAAAAAAAAAAAAAAAAAAAAAAAAAAAAAAAAAAAAAAAAAAAAAAAAAAAAAAAAAAAAAAAAAAAAAAAAAAAAAAAAAAAAAAAAAAAAAAAAAAAAAAAAAAAAAAAAAAAAAAAAAAAAAAAAAAAAAAAAAAAAAAAAAAAAAAAAAAAAAAAAAAAAAAAAAAAAAAAAAAAAAAAAAAAAAAAAAAAAAAAAAAAAAAAAAAAAAAAAAAAAAAAAAAAAAAAAAAAAAAAAAAAAAAAAAAAAAAAAAAAAAAAAAAAAAAAAAAAAAAAAAAAAAAAAAAAAAAAAAAAAAAAAAAAAAAAAAAAAAAAAAAAAAAAAAAAAAAAAAAAAAAAAAAAAAAAAAAAAAAAAAAAAAAAAAAAAAAAAAAAAAAAAAAAAAAAAAAAAAAAAAAAAAAAAAAAAAAAAAAAAAAAAAAAAAAAAAAAAAAAAAAAAAAAAAAAAAAAAAAAAAAAAAAAAAAAAAAAAAAAAAAAAAAAAAAAAAAAAAAAAAAAAAAAAAAAAAAAAAAAAAAAAAAAAAAAAAAAAAAAAAAAAAAAAAAAAAAAAAAAAAAAAAAAAAAAAAAAAAAAAAAAAAAAAAAAAAAAAAAAAAAAAAAAAAAAAAAAAAAAAAAAAAAAAAAAAAAAAAAAAAAAAAAAAAAAAAAAAAAAAAAAAAAAAAAAAAAAAAAAAAAAAAAAAAAAAAAAAAAAAAAAAAAAAAAAAAAAAAAAAAAAAAAAAAAAAAAAAAAAAAAAAAAAAAAAAAAAAAAAAAAAAAAAAAAAAAAAAAAAAAAAAAAAAAAAE5lbHNvbiBkZSBTb3V6YSBlIFNpbHZhIEp1bmlvcgAAAAWQAwACAAAAFAAAELiQBAACAAAAFAAAEMySkQACAAAAAzMyAACSkgACAAAAAzMyAADqHAAHAAAIDAAACKwAAAAAHOoAAAAIAAAAAAAAAAAAAAAAAAAAAAAAAAAAAAAAAAAAAAAAAAAAAAAAAAAAAAAAAAAAAAAAAAAAAAAAAAAAAAAAAAAAAAAAAAAAAAAAAAAAAAAAAAAAAAAAAAAAAAAAAAAAAAAAAAAAAAAAAAAAAAAAAAAAAAAAAAAAAAAAAAAAAAAAAAAAAAAAAAAAAAAAAAAAAAAAAAAAAAAAAAAAAAAAAAAAAAAAAAAAAAAAAAAAAAAAAAAAAAAAAAAAAAAAAAAAAAAAAAAAAAAAAAAAAAAAAAAAAAAAAAAAAAAAAAAAAAAAAAAAAAAAAAAAAAAAAAAAAAAAAAAAAAAAAAAAAAAAAAAAAAAAAAAAAAAAAAAAAAAAAAAAAAAAAAAAAAAAAAAAAAAAAAAAAAAAAAAAAAAAAAAAAAAAAAAAAAAAAAAAAAAAAAAAAAAAAAAAAAAAAAAAAAAAAAAAAAAAAAAAAAAAAAAAAAAAAAAAAAAAAAAAAAAAAAAAAAAAAAAAAAAAAAAAAAAAAAAAAAAAAAAAAAAAAAAAAAAAAAAAAAAAAAAAAAAAAAAAAAAAAAAAAAAAAAAAAAAAAAAAAAAAAAAAAAAAAAAAAAAAAAAAAAAAAAAAAAAAAAAAAAAAAAAAAAAAAAAAAAAAAAAAAAAAAAAAAAAAAAAAAAAAAAAAAAAAAAAAAAAAAAAAAAAAAAAAAAAAAAAAAAAAAAAAAAAAAAAAAAAAAAAAAAAAAAAAAAAAAAAAAAAAAAAAAAAAAAAAAAAAAAAAAAAAAAAAAAAAAAAAAAAAAAAAAAAAAAAAAAAAAAAAAAAAAAAAAAAAAAAAAAAAAAAAAAAAAAAAAAAAAAAAAAAAAAAAAAAAAAAAAAAAAAAAAAAAAAAAAAAAAAAAAAAAAAAAAAAAAAAAAAAAAAAAAAAAAAAAAAAAAAAAAAAAAAAAAAAAAAAAAAAAAAAAAAAAAAAAAAAAAAAAAAAAAAAAAAAAAAAAAAAAAAAAAAAAAAAAAAAAAAAAAAAAAAAAAAAAAAAAAAAAAAAAAAAAAAAAAAAAAAAAAAAAAAAAAAAAAAAAAAAAAAAAAAAAAAAAAAAAAAAAAAAAAAAAAAAAAAAAAAAAAAAAAAAAAAAAAAAAAAAAAAAAAAAAAAAAAAAAAAAAAAAAAAAAAAAAAAAAAAAAAAAAAAAAAAAAAAAAAAAAAAAAAAAAAAAAAAAAAAAAAAAAAAAAAAAAAAAAAAAAAAAAAAAAAAAAAAAAAAAAAAAAAAAAAAAAAAAAAAAAAAAAAAAAAAAAAAAAAAAAAAAAAAAAAAAAAAAAAAAAAAAAAAAAAAAAAAAAAAAAAAAAAAAAAAAAAAAAAAAAAAAAAAAAAAAAAAAAAAAAAAAAAAAAAAAAAAAAAAAAAAAAAAAAAAAAAAAAAAAAAAAAAAAAAAAAAAAAAAAAAAAAAAAAAAAAAAAAAAAAAAAAAAAAAAAAAAAAAAAAAAAAAAAAAAAAAAAAAAAAAAAAAAAAAAAAAAAAAAAAAAAAAAAAAAAAAAAAAAAAAAAAAAAAAAAAAAAAAAAAAAAAAAAAAAAAAAAAAAAAAAAAAAAAAAAAAAAAAAAAAAAAAAAAAAAAAAAAAAAAAAAAAAAAAAAAAAAAAAAAAAAAAAAAAAAAAAAAAAAAAAAAAAAAAAAAAAAAAAAAAAAAAAAAAAAAAAAAAAAAAAAAAAAAAAAAAAAAAAAAAAAAAAAAAAAAAAAAAAAAAAAAAAAAAAAAAAAAAAAAAAAAAAAAAAAAAAAAAAAAAAAAAAAAAAAAAAAAAAAAAAAAAAAAAAAAAAAAAAAAAAAAAAAAAAAAAAAAAAAAAAAAAAAAAAAAAAAAAAAAAAAAAAAAAAAAAAAAAAAAAAAAAAAAAAAAAAAAAAAAAAAAAAAAAAAAAAAAAAAAAAAAAAAAAAAAAAAAAAAAAAAAAAAAAAAAAAAAAAAAAAAAAAAAAAAAAAAAAAAAAAAAAAAAAAAAAAAAAAAAAAAAAAAAAAAAAAAAAAAAAAAAAAAAAAAAAAAAAAAAAAAAAAAAAAAAAAAAAAAAAAAAAAAAAAAAAAAAAAAAAAAAAAAAAAAAAAAAAAAAAAAAAAAAAAAAAAAAAAAAAAAAAAAAAAAAAAAAAAAAAAAAAAAAAAAAAAAAAAAAAAAAAAAAAAAAAAAAAAAAAAAAAAAAAAAAAAAAAAAAAAAAAAAAAAAAAAAAAAAAAAAAAAAAAAAAAAAAAAAAAAAAAAAAAAAAAAAAAAAAAAAAAAAAAAAAAAAAAAAAAAAAAAAAAAAAAAAAAAAAAAAAAAAAAAAAAAAAAAAAAAAAAAAAAAAAAAAAAAAAAAAAAAAAAAAAAAAAAAAAAAAAAAAAAAAAAAAAAAAAAAAAAAAAAAAAAAAAAAAAAAAAAAAAAAAAAAAAAAAAAAAAAAAAAAAAAAAAAAAAAAAAAAAAAAAAAAAAAAAAAAAAAAAAAAAAAAAAAAAAAAAAAAAAAAAAAAAAAAAAAAAAAAAAAAAAAAAAAAAAAAAAAAAAAAAAAAAAAAAAAAAAAAAAAAAAAAAAAAAAAAAAAAAAAAAAAAAAAAAAAAAAAAAAAAAAAAAAAAAAAAAAAAAAAAAAAAAAAAAAAAAAAAAAAAAAAAAAAAAAAAAAAAAAAAAAAAAAAAAAAAAAAAAAAAAAAAAAAAAAAAAAAAAAAAAAAAAAAAAAAAAAAAAAAAAAAAAAAAAAAAAAAAAAAAAAAAAAAAAAAAAAAAAAAAAAAAAyMDIxOjA1OjEwIDE5OjIzOjAwADIwMjE6MDU6MTAgMTk6MjM6MDAAAABOAGUAbABzAG8AbgAgAGQAZQAgAFMAbwB1AHoAYQAgAGUAIABTAGkAbAB2AGEAIABKAHUAbgBpAG8AcgAAAP/hCzFodHRwOi8vbnMuYWRvYmUuY29tL3hhcC8xLjAvADw/eHBhY2tldCBiZWdpbj0n77u/JyBpZD0nVzVNME1wQ2VoaUh6cmVTek5UY3prYzlkJz8+DQo8eDp4bXBtZXRhIHhtbG5zOng9ImFkb2JlOm5zOm1ldGEvIj48cmRmOlJERiB4bWxuczpyZGY9Imh0dHA6Ly93d3cudzMub3JnLzE5OTkvMDIvMjItcmRmLXN5bnRheC1ucyMiPjxyZGY6RGVzY3JpcHRpb24gcmRmOmFib3V0PSJ1dWlkOmZhZjViZGQ1LWJhM2QtMTFkYS1hZDMxLWQzM2Q3NTE4MmYxYiIgeG1sbnM6ZGM9Imh0dHA6Ly9wdXJsLm9yZy9kYy9lbGVtZW50cy8xLjEvIi8+PHJkZjpEZXNjcmlwdGlvbiByZGY6YWJvdXQ9InV1aWQ6ZmFmNWJkZDUtYmEzZC0xMWRhLWFkMzEtZDMzZDc1MTgyZjFiIiB4bWxuczp4bXA9Imh0dHA6Ly9ucy5hZG9iZS5jb20veGFwLzEuMC8iPjx4bXA6Q3JlYXRlRGF0ZT4yMDIxLTA1LTEwVDE5OjIzOjAwLjMyNDwveG1wOkNyZWF0ZURhdGU+PC9yZGY6RGVzY3JpcHRpb24+PHJkZjpEZXNjcmlwdGlvbiByZGY6YWJvdXQ9InV1aWQ6ZmFmNWJkZDUtYmEzZC0xMWRhLWFkMzEtZDMzZDc1MTgyZjFiIiB4bWxuczpkYz0iaHR0cDovL3B1cmwub3JnL2RjL2VsZW1lbnRzLzEuMS8iPjxkYzpjcmVhdG9yPjxyZGY6U2VxIHhtbG5zOnJkZj0iaHR0cDovL3d3dy53My5vcmcvMTk5OS8wMi8yMi1yZGYtc3ludGF4LW5zIyI+PHJkZjpsaT5OZWxzb24gZGUgU291emEgZSBTaWx2YSBKdW5pb3I8L3JkZjpsaT48L3JkZjpTZXE+DQoJCQk8L2RjOmNyZWF0b3I+PC9yZGY6RGVzY3JpcHRpb24+PC9yZGY6UkRGPjwveDp4bXBtZXRhPg0KICAgICAgICAgICAgICAgICAgICAgICAgICAgICAgICAgICAgICAgICAgICAgICAgICAgICAgICAgICAgICAgICAgICAgICAgICAgICAgICAgICAgICAgICAgICAgICAgICAgIAogICAgICAgICAgICAgICAgICAgICAgICAgICAgICAgICAgICAgICAgICAgICAgICAgICAgICAgICAgICAgICAgICAgICAgICAgICAgICAgICAgICAgICAgICAgICAgICAgICAgCiAgICAgICAgICAgICAgICAgICAgICAgICAgICAgICAgICAgICAgICAgICAgICAgICAgICAgICAgICAgICAgICAgICAgICAgICAgICAgICAgICAgICAgICAgICAgICAgICAgICAKICAgICAgICAgICAgICAgICAgICAgICAgICAgICAgICAgICAgICAgICAgICAgICAgICAgICAgICAgICAgICAgICAgICAgICAgICAgICAgICAgICAgICAgICAgICAgICAgICAgIAogICAgICAgICAgICAgICAgICAgICAgICAgICAgICAgICAgICAgICAgICAgICAgICAgICAgICAgICAgICAgICAgICAgICAgICAgICAgICAgICAgICAgICAgICAgICAgICAgICAgCiAgICAgICAgICAgICAgICAgICAgICAgICAgICAgICAgICAgICAgICAgICAgICAgICAgICAgICAgICAgICAgICAgICAgICAgICAgICAgICAgICAgICAgICAgICAgICAgICAgICAKICAgICAgICAgICAgICAgICAgICAgICAgICAgICAgICAgICAgICAgICAgICAgICAgICAgICAgICAgICAgICAgICAgICAgICAgICAgICAgICAgICAgICAgICAgICAgICAgICAgIAogICAgICAgICAgICAgICAgICAgICAgICAgICAgICAgICAgICAgICAgICAgICAgICAgICAgICAgICAgICAgICAgICAgICAgICAgICAgICAgICAgICAgICAgICAgICAgICAgICAgCiAgICAgICAgICAgICAgICAgICAgICAgICAgICAgICAgICAgICAgICAgICAgICAgICAgICAgICAgICAgICAgICAgICAgICAgICAgICAgICAgICAgICAgICAgICAgICAgICAgICAKICAgICAgICAgICAgICAgICAgICAgICAgICAgICAgICAgICAgICAgICAgICAgICAgICAgICAgICAgICAgICAgICAgICAgICAgICAgICAgICAgICAgICAgICAgICAgICAgICAgIAogICAgICAgICAgICAgICAgICAgICAgICAgICAgICAgICAgICAgICAgICAgICAgICAgICAgICAgICAgICAgICAgICAgICAgICAgICAgICAgICAgICAgICAgICAgICAgICAgICAgCiAgICAgICAgICAgICAgICAgICAgICAgICAgICAgICAgICAgICAgICAgICAgICAgICAgICAgICAgICAgICAgICAgICAgICAgICAgICAgICAgICAgICAgICAgICAgICAgICAgICAKICAgICAgICAgICAgICAgICAgICAgICAgICAgICAgICAgICAgICAgICAgICAgICAgICAgICAgICAgICAgICAgICAgICAgICAgICAgICAgICAgICAgICAgICAgICAgICAgICAgIAogICAgICAgICAgICAgICAgICAgICAgICAgICAgICAgICAgICAgICAgICAgICAgICAgICAgICAgICAgICAgICAgICAgICAgICAgICAgICAgICAgICAgICAgICAgICAgICAgICAgCiAgICAgICAgICAgICAgICAgICAgICAgICAgICAgICAgICAgICAgICAgICAgICAgICAgICAgICAgICAgICAgICAgICAgICAgICAgICAgICAgICAgICAgICAgICAgICAgICAgICAKICAgICAgICAgICAgICAgICAgICAgICAgICAgICAgICAgICAgICAgICAgICAgICAgICAgICAgICAgICAgICAgICAgICAgICAgICAgICAgICAgICAgICAgICAgICAgICAgICAgIAogICAgICAgICAgICAgICAgICAgICAgICAgICAgICAgICAgICAgICAgICAgICAgICAgICAgICAgICAgICAgICAgICAgICAgICAgICAgICAgICAgICAgICAgICAgICAgICAgICAgCiAgICAgICAgICAgICAgICAgICAgICAgICAgICAgICAgICAgICAgICAgICAgICAgICAgICAgICAgICAgICAgICAgICAgICAgICAgICAgICAgICAgICAgICAgICAgICAgICAgICAKICAgICAgICAgICAgICAgICAgICAgICAgICAgICAgICAgICAgICAgICAgICAgICAgICAgICAgICAgICAgICAgICAgICAgICAgICAgICAgICAgICAgICAgICAgICAgICAgICAgIAogICAgICAgICAgICAgICAgICAgICAgICAgICAgICAgICAgICAgICAgICAgICAgICAgICAgICAgICAgICAgICAgICAgICAgICAgICAgICAgICAgICAgICAgICAgICAgICAgICAgCiAgICAgICAgICAgICAgICAgICAgICAgICAgICA8P3hwYWNrZXQgZW5kPSd3Jz8+/9sAQwAHBQUGBQQHBgUGCAcHCAoRCwoJCQoVDxAMERgVGhkYFRgXGx4nIRsdJR0XGCIuIiUoKSssKxogLzMvKjInKisq/9sAQwEHCAgKCQoUCwsUKhwYHCoqKioqKioqKioqKioqKioqKioqKioqKioqKioqKioqKioqKioqKioqKioqKioqKioq/8AAEQgA8QJDAwEiAAIRAQMRAf/EAB8AAAEFAQEBAQEBAAAAAAAAAAABAgMEBQYHCAkKC//EALUQAAIBAwMCBAMFBQQEAAABfQECAwAEEQUSITFBBhNRYQcicRQygZGhCCNCscEVUtHwJDNicoIJChYXGBkaJSYnKCkqNDU2Nzg5OkNERUZHSElKU1RVVldYWVpjZGVmZ2hpanN0dXZ3eHl6g4SFhoeIiYqSk5SVlpeYmZqio6Slpqeoqaqys7S1tre4ubrCw8TFxsfIycrS09TV1tfY2drh4uPk5ebn6Onq8fLz9PX29/j5+v/EAB8BAAMBAQEBAQEBAQEAAAAAAAABAgMEBQYHCAkKC//EALURAAIBAgQEAwQHBQQEAAECdwABAgMRBAUhMQYSQVEHYXETIjKBCBRCkaGxwQkjM1LwFWJy0QoWJDThJfEXGBkaJicoKSo1Njc4OTpDREVGR0hJSlNUVVZXWFlaY2RlZmdoaWpzdHV2d3h5eoKDhIWGh4iJipKTlJWWl5iZmqKjpKWmp6ipqrKztLW2t7i5usLDxMXGx8jJytLT1NXW19jZ2uLj5OXm5+jp6vLz9PX29/j5+v/aAAwDAQACEQMRAD8A+jaKKKACiiigAooooAKKKKACiiigAooooAKKKKACiiigAooooAKKKKACiiigAooooAKKKKACiiigAooooAKKKKACiiigAooooAKKKKACiiigAooooAKKKKACiiigAooooAKKKKACiiigAooooAKKKKACiiigAooooAKKKKACiiigAooooAKKKKACiiigAooooAKKKKACiiigAooooAKKKKACiiigAooooAKKKKACiiigAooooAKKKKACiiigAooooAKKKKACiiigAooooAKKKKACiiigAooooAKKKKACiiigAooooAKKKKACiiigAooooAKKKKACiiigAooooAKKKKACiiigAooooAKKKKACiiigAooooAKKKKACiiigAooooAKKKKACiiigAooooAKKKKACiiigAooooAKKKKACiiigAooooAKKKKACiiigAooooAKKKKACiiigAooooAKKKKACiiigAoopKAFopNwxnNIXA7/pQA6igc//AKqMf5xQAUUY+v5UY+v5UAFFGPr+VGPr+VABRRj6/lRj6/lQAUUY+v5UY+v5UAFFGPr+VGPr+VABRRj6/lRj6/lQAUUY+v5UY+v5UAFFGPr+VGPr+VABRRj6/lRj6/lQAUUYx6/lSFgBk8D6UALRSKQ3T+VLj6/lQAUUuP8AOKMf5xQAlFLj/OKMf5xQAlFLj/OKMf5xQAlFI3y//qpaACiiigAooooAKKKKACiiigAooooAKKKKACiiigAooooAKKKKACiiigAooooAKKKKACiiigAooooAKKKKACiiigAooooAKKKKACiiigAprdOOtOpp6/gaAPLtM0nU/GHizxT5viTU9Pi0/UTbxRWkoChdoPcVrv8ADa7Ix/wmniBh7TJx/wCO0nw8/wCRp8df9ho/+ixXeUAeeN8KJ3Of+E48Rj6XI/8AiaT/AIVNP/0PPiT/AMCh/wDE16LRQB51/wAKmn/6HnxJ/wCBQ/8AiaP+FTT/APQ8+JP/AAKH/wATXotFAHnX/Cpp/wDoefEn/gUP/iaP+FTT/wDQ8+JP/Aof/E16LRQB51/wqaf/AKHnxJ/4FD/4mj/hU0//AEPPiT/wKH/xNei0UAedf8Kmn/6HnxJ/4FD/AOJo/wCFTT/9Dz4k/wDAof8AxNei0UAedf8ACpp/+h58Sf8AgUP/AImj/hU0/wD0PPiT/wACh/8AE16LRQB51/wqaf8A6HnxJ/4FD/4mj/hU0/8A0PPiT/wKH/xNei0UAedf8Kmn/wCh58Sf+BQ/+Jo/4VNP/wBDz4k/8Ch/8TXotFAHnX/Cpp/+h58Sf+BQ/wDiaP8AhU0//Q8+JP8AwKH/AMTXotFAHnX/AAqaf/oefEn/AIFD/wCJo/4VNP8A9Dz4k/8AAof/ABNei0lAHm5+FcwlCDxz4lJ6kfaR/wDE1y0nhnX08cx+Hzd+J3snQyG/a+TcAOMgf3fwzXoXja08V3EmlHwxcQRRpeo12HBy0f8Ah6iquqapqml63awyWtpLcmydpbpUY+X82M46lfWgCkvwouGZgfG/iRcHAAuR/wDE07/hU0//AEPPiT/wKH/xNaPgqLxONX1m68Q3lvPYTT5sfKJ+7gZK/wCz7GuzDZ6UAed/8Kmn/wCh58Sf+BQ/+Jo/4VNP/wBDz4k/8Ch/8TXouaM0Aedf8Kmn/wCh58Sf+BQ/+Jo/4VNP/wBDz4k/8Ch/8TXouaM0Aedf8Kmn/wCh58Sf+BQ/+Jo/4VNP/wBDz4k/8Ch/8TXouaM0AeeR/CqeGZJB418RybWB2tdDBx68V6Cq7fyxTqKACiiigAooooAKKKKACiiigAooooAKKKKACiiigAooooAKKKKACiiigAooooAKKKKACiiigAooooAKKKKACiiigAooooAKKKKACiiigApp6/hTqaev4GgDhfh5/wAjT46/7DR/9Fiu8rg/h4f+Kp8df9ho/wDosV3lABRRRQAySRIoy8jKijqWOAKqR6zps0DzRX1s8Uf35FlBVfqe1R69p/8AamkS2jSmJHI3sByVB5FeW+AdCt9Z8ceI9XwWsILkQ29uvETMoxux0JoA9as9SstRVjYXcFyE+8YZA+PyqyGDdK8u8MXEVx8a/FF3aqkFhZ2UFq7JhUMoOTwOM4r1FX3rnGKAFooooAKKKQnAyaACjvisybWYDq6abbL59xt3yhf+WK9ifqe1aZI6+nGaAFoqrdajZ2TRrd3UMBkcIgkcDc3oKtdRkEH6UAFFFFABRRRQAUUUUANcbgBnHNcHdR2mh/E6TUb/AFCUQT6cdyzPlUw2PlFd6c8YOPXisy60Cw1DVY7++t0muIojEhcZAU9RigDltJ1uUeKpbDRNKvbjSzJidzsEcJIyHQls7T6Y9xXdqrLnPTtXC6bpGqaT4ytoorSVrILJBJcZGxoQN0Rb/bU5UegNd0qkAZJOBjmgB1GM0UhJCkgZI7UAH40tZA1u0h15dLuAYJ3TdCX4Eo6kD3rV3DvxQAtL2rF1DxLa2d4bSCOa8uVxvit13FQemfSqmh+OdL1vVJdMRpLa+h+/bXC7Xx6j1oA6WijqM0UAFFFFABRRRQAUUUUAFFFFABRRRQAUUUUAFFFFABRRRQAUUUUAFFFFABRRRQAUUUUAFFFFABRRRQAUUUUAFFFFABRRRQAUUUUAFFFFABSHr+BpaQ8/kaAOD+Hn/I0+Ov8AsNH/ANFiu9rgvh5/yNXjr/sNH/0WK7wnFAC0U0MCMjp9KUHPr+VAEV1G01tJGhwWUgH0yKwfBvhWPwjof2CKQys0rSvJjG5mOa6TH1/KjH1/KgDgtH+HT6Rc3yrfCWzvrz7XNHsIkZv7pbPIru0ztwQRj1p2Pr+VH4H8qACikzRQAtY/inXoPDXhm+1W55W2hZwv949h+dbFeY/G27b+wNK0tDj+0NShiYeqhgSKAOg+Hemz23h4alqh36nqp+1XDnqN3Kr9AOK6tyQvy+lMhijt7KKNOERQoHoAK5fWtYv5LzUI9Pufsdvp8JeecoGy2MhRmgCrL4Hi8Q3k9z4sf7TNyttDExCWynoR/te9b3huw1LTLJrPUroXaRHbBMR8xTsG96xPhd4pvPFngmDVdRiUSeZJHvUYDgHhqz/CfjLUNf8Aid4g0/eG0rT1WOPC4/ed+aAPRaKoS61p8GqW+myXSC8uFLRRd2A6mr9ABRSUuD6H8qACilx9fypDx2P5UAFJnFLVXUbiOz0+a6lyVhQv8vU4oAsggng0v1rybxj4y13w3b6NqfnJ5upXSwx6eIxyjdyeucV23jDXf+EZ8D6hqqnbJDCXTdz83agDosjOKRt235fy9a5r4eatqOseAdL1HXcfbLmHzJCF29Txx9K2tN1ew1dJX065S4WGQxSFD91h1FAGH4/0STV/Dckln+7v7NhcWkq/eV15x9D0NWPBviKLxV4RstUjJV5kxIp/hccEfnW9IiuhV+VIII9a8x+EFx5M3ibRgBtsdTkMYP8ACrHgUAdbpPg610jxZqeuxXE8s2pACRJH+RcegrgtRVvEPx80+XREdotKhIvp0+6CTwhPrWj4/wDilpujasNBS5ltpGH+kXKQl/LU9l96q+D/ABz4bub+y8P+EYZy0rFriaSEqW9WJPU0AetDiMZopqdz606gAooooAKKKKACiiigAooooAKKKKACiiigApOlLWB4t1zUfD+kvf6fpi38UMbyTgyhCiqM5GevegDeBz0/lRnmvNPCfxK13xlpX9paR4Y3W+4qGe7A3GreqfEyfwwsMvi7Q59NtpX2LcI4kVT746UAegkYpCQoyelQWV5BqFnDeWkomhnQOjqeCDWT4q1rUdC0t73T9NW+jhR5JsyhNiqM5560Ab1Fef8Aw3+JqePb3UbZ9NksLix2iRHfdnNd+WAGT0oAM460tc1448Y2vgzQJNRuYmmZR8sanG6snwX431rxfp8F+vh37NYzniR7gdPXFAHdZpab93jHHtXL6t4ztrfWk0rTIJtSvsEvDAOE/wB5u1AHU7huxS1yM3izUdKj87XdEe2sx964jlD+X9QKveEfFEPi3T5r+yRhaLM0cTkf6wDuKAN+lHJxWVr19qOn2Yn0uxF4y5LKZAuBivPvCXxb1fxnPfR6T4aybJ9krPcgAnnp+VAHqpwOppa4y68QeLoITIPCyS47Jdin+CPG114qutRtb/R5NNuLBwkiO+7k0AdhRRRQAUUUUAFFFFABRRRQAUZ4P0opD1/CgDgvh3/yNXjv/sN/+0xXekZ+tcH8PP8AkafHX/YbP/oArvaAPDfj/a+K9Kt4Nf8ADeq3cNpGBHPBBIRs/wBuuV+EU8nj4T2er+M9etNUiORHDdYV19sivpLULC31KxmtbyNZYZUKOrDOQRXx/wCOPDeqfCL4hpqGkM6W3meZbyDoVzyhoA+hf+FSSkZHjjxN/wCBg/wprfCSb/oePE3/AIGD/Ctz4feN7Hxz4Yt9RsyFkwFmizzG/cV1QIOcdqAPNZPhHdFD5PjnxIGxwWuwR/Kue1X4ReN0iY6T8QL92H3UuJGGfxBr2ykxyMgEd80AfMWhal4++HfxIsU8cXV1Pp0z+S0rymSPDcZB9a+momDRgg7hjgis7XtAsfEGmS2WpQrNG4+U45U9iDT9Bs7jT9Gt7S8k82WFdhk/vAdPxxQBpV5V8alZZ/Clxj93Fqybj6ZxivVa4b4t6PLq3gO5NrG0lzZst1EFHO5DmgDto1Hk88g815x8a9QbSfh/dRWA2XGpzJbllHJ3Hmuz8MaqmteGrC/ikDpPArZHrgZH55rm/HzeG/EMlv4V1PUfs+pTOJrZU+8rryDQBe0aytvB3w6ggUhIrCzyxPc7c5/OuP8AgoIrPwjqfiXVD5TaldSXDMw/hzxiqnxdOt23gePSJtSSa5vZEt4orZCrTepP4eld94e8OWmj+ALPTLyP91bQKzr7gbj+tADNJ17R9b8XS2v2KSHVbOBZla4iAbyH6MpHb2PNdUi7BgMzd/mryn4a3C3viDWPF2pSbG1e6+xWEQ6+Sh9PTPOa9XU5oAhvLcXdq8JeSPeMb42ww+lca3w2yzEeI9cGTni9YYruqKAOE/4Vr/1Mmu/+BrUq/DcowI8Sa5we94a7qigCK2h+z2scO9n2KF3Ock+5om2FNsibw3GMZqWmSSCGMyMQqqMkntQB43ra/wDCT/tG6Xpk/NloNn9pKDp5h6frir3x2vTP4e03w7bnM2rXaRlAeSgPNaNtZ6d4m8XT+KPBesW6XsCfY7wNGWR8c4PvxXIxaZe+Jvj5bNd3TX0Ojp5kxQYjjfsoFAHqL6nZ+GNIstPW3muJUg2pbwKC21F5bkgYqfwjfaRquhR6joESxW12TKQE2ktnBz75Fc78WL+LQ/Cd5eW0ROqahGNPt26kbz2+nWtjwJa2ujeH7fQbc7pLCFBKy9N5GT/OgDp2+6fpXlHwmQyeMPG0y/6p9QChvUjOa9J1rUY9K0e6vJnCJDEzkntgVx/we0uW08Gm/vIjHdapcSXcgbrhjx+lAHbyadZPIXktYZHbqzRgmkSws4pBJFaQxuv3WRACKs0UANXOOmOKdRRQAUUUUAFFFFABRRRQAUUUUAJmjNNzRmgB2aM03NGaAFZwgy3Arzr46a62j/CnUFgfbNfFbWM+u45I/IGvQ/lY7W714b8dH/4SHxl4T8JQyZ8+582aMHHy5wD+W6gD0T4WaKnhz4b6TZsuyRoRJKD2ZuTXH/HzVI9S8Nw+FdLia+1e+nQpBENzRqDncfSu0uPBdrLprWyanq0QKeWrLet8vGOlcH8GNSik8Ra/oc9vby3mmzbVvwuZJkyR8zHvxQB6N4A0W48OeBdL0u+bdcQQDzPQE84/CoPiFO58NLp8JIk1O4jtFx3DMN//AI4GrpQcsTkkY6elczqgW/8AHmkW4O8WEUl3ImfusfkQ/iC9AHnXgiIaH+0Vr+mQrshubdZAvrgD/CvarqZLe1kklcRoqlmZuAAK8X8RR/2R+0tolwp2JqFqUkP04xXpOqE69qkWlId1jDiS7IP3iORH+PU0AeWfGe6muvDNs0u5ZtXuEgtrcjkQ55/E9a9g8KaemkeFtP0+JNq28Cpj6CvJfG8v/CRfHTw54eA32+np58ijop7fpXtyBVHHA9KAK+rXEttpVzLbJulSJmQZ7gV498DPFujSRatHqd7HDrUt87zee4VnGeMZ616/d6hbQXMFtNIBJcEqiYyWx1rzfxV8CPDXiHUJNStXm025bljC3yk+vtQB6Jq1nHq2i3dsjK6zwsoXOQcjrVHwVoA8L+FLLSgBmFPm29MnrXhdpYeJvhD8QtLs31SXUNJv5fLVXYnr2wa+kEI2AgYzQBzvxE1j+w/AGr3wbY0dswVvQkYriv2e9IbTfh59vlBE+oTPO+Ryew5qr+0Xqxj8H2miwFvP1K6WMBT1A61v6H8N4o/CtlZHV9Vtz9nXckV2QqnHOBQB2Gna5DrGpX1rbjdHaMsbyA8biMkfhUWiaK+n61rF3IQRezK6YHQBQP6Vg/C/Rm8OeCVjvC4mlnmnkeb75BY43H1wK7CzvYb62W4tX3xP91h3oAs5pvmpnGcfWkK7lrmNf8E+HdfvhdatDI823GRcsg/IGgDqPMX1H50ean94fnXB/wDCqvBf/PrJ/wCBz/40f8Kq8Ff8+sn/AIHP/jQB3nmpnG4Z+tLuG7HeuP0j4f8AhbRtUhvNOgkSeM/KftbP+hNdaCMmgCTNGabmjPOKAHZo78elNzQGHP0oA4T4eH/iqfHX/YbP/oArvc1wHw8P/FVeOv8AsNH/ANAFd7mgBSRt5GfauV8f+CrLxx4bn0y7ULIRm3mxzG4HBrqc01m44GaAPjrwJ4m1T4RfECay1VW+zCXyrqEnAIzgOK+v9O1C31LT4Ly0kEkM6B0dehzXkfx2+Gn/AAk+knWdKh/4mFmvzBRjzUHUfUVzX7O3jW/+0S+Fr2KSWGHLQu3PleoNAH0UGBzjscGlzTFcsvzYJz1FLmgB2aM03NGaAHFgBk0yUeZGVxkMMHjqDTJpNkZP8q4O4+LMFrdywnw5rshjYoWjtCVOO4NAGhoWnXfhPWJ9PS2aTRLuRprdk5+yOfvIe+D1FO1fwYL/AMTxeI9Oe3h1BI/KD3NuZAB2IGQQayv+FwW+f+RY8Qf+ARpo+L8G4n/hF/EH/gGaANuw8EqNfj1zXbyTVNQjG2Jiu2OAf7C9vqc11LKHgZHTIIwQf4hXnv8AwuC3/wChY8Qf+AZo/wCFwW//AELHiD/wDNAHUaR4R0nRJfNsLVo2yzKu4lULddoPSttD1O0rk9CK88/4XBb/APQseIP/AADNH/C37f8A6FjxB/4BmgD0XP1/KjP1/KvOv+FwW/8A0LHiD/wDNH/C4Lf/AKFjxB/4BGgD0XP1/KjP1/KvOv8AhcFv/wBCx4g/8AjR/wALgt/+hY8Qf+ARoA9Fz9fyqK5gS5tpIJQSkilWHqCMV5//AMLgt/8AoWPEH/gEaP8AhcFv/wBCx4g/8AjQBY0zwFf+HrKfTvDuow2VnNIZGcWu6Yk/7Wcd/Sui8M+FrDwvZvFZIWllbfPO5y8rdyTXK/8AC4Lf/oWPEH/gEaP+Fv2//QseIP8AwCNAHZa9oGn+I9PFnqsHnRK4kXBIKsOhBHQ1Jp+l22k2pis1Ma5yzHLM3uT1NcT/AMLgt/8AoWPEH/gGaa3xfhyNvhjxB/4BGgDW8U2F/wCKdSh0RI3h0lGWW9mx/rgDkRj6nr7V10MSW8KQxJsRFCqoHAArzxfi/bgc+F/EGe/+hml/4XBbf9Cx4h/8AjQB6Ln6/lRXnX/C4Lf/AKFjxB/4BGg/GC3AOfDGv/jZmgD0XNGaxPDniNfEdl9pSyu7Mf3LqPY35Vs5oAdmjNNzRmgB2aM03NGaAHZozTc0ZoAdmim5ooAZmjNMzRmgB+aM0zNGaAKup6rZaXbebqF3Dapn78rhQfzrwPTvEmka/wDtHTavqN9BHp9jCVtppGwrMOAAT9Sa+gZ4I51xLGkgHOHUEfrVf+ydPzk2Nscnn9yv+FAEjyLdWDtauHWSJjG6nOeOMV4V8FA3hfxf4q/4SVhY3EzKYjOdpkwzE7f73bgV75GiRrtjUKqjCgDAAqN7S3kkWSSCJ3U5DNGCR+OKAMseJ7W00f8AtHXZo7CJmbZ5pxuXsf8A61cZ4J8ceH9e8aa3dJeok8siW9skhKl4lGQRn1JNejS2sEw/ewpIOu10BH602OwtIzujtIEbsREox+OKAPKvjBpd9P438JXukQtLcrOVLKOFHqT6V3f23SPBmmRjV9Sht2my7PM2DI3Un3reeIFlYqrkdM84+lJPawXG3zoY5dvTzEDY/OgDwf4c+ItL1f4zeIdb1S9jiaRvLst5xuToMH6V7+jh49ynI7EdxVWPTrFXDfY7cMOhEKgj9Ks4Ab5TgYxgCgDzHxdqWtR/FLTrjTLGa70/TIGa8Ea5IDHHA7n6V1H/AAsTwy0JL6nHG64DQurCQH02Yz+ldGqBWLbV3HvjmoZLC0ebzvssPmf3zGpb88UAefWuk3vjvxxba7qFrJa6PpefsMdwu15nP8ZXqB9a9Eu762061ae9uI4IV5LyNtAqYAKoxTJoo549kqLIpPKuoI/WgD548feJNJ8UfGbQYG1CJtIsCHkuA3yBs5617OPH/hSKEKddsdqjnEo4FbB0uwPIsrYHGD+4T/CgaVp4xixtv+/Cf4UAeca78StO8RXtt4a8IXLXU162yaeNCFhTPPJHXFem2NnHYWMdtDxHGoVR7AU2Kws4pBJHawI69GWNQR+QqwWoAGY4+X1rndd8DaP4jvhcamk5YLgGO5dP0Broc0ZoA4r/AIVF4V/553n/AIGy/wCNH/CovCv/ADzvP/A2X/Gu1zRmgDl9J+HGgaJqcV9YJciWPOC907j8ia6lQASe5NJmjNADt2KyfEHiPTvDdrDc6ndJAssqwpu/iZjgCtNjnA55rxr4z6LdeKPDupX1sZI10Vg0Kg43sD8x/wA+lAHskLEgnOUPKmpM8/hXJfDTxIPFHw/0vUCwMxi8ubHZ14I/lXV55/CgDh/h6f8AiqPHP/YaP/oAru81wXw+P/FT+OP+w0f/AEAV3WaAH5oz70wtgVyvjrxna+E9KDhDc38x2WtqnLSMenHpQBn/ABF8aPplumh6Cq3Ou3/yRQ4z5angu3tV3wB4FtfBmjhdqzX8533Vxt5djyce1Zvw+8G3Wn+f4h8TP9r17UDvkZ+RAvZF9MV34J2/Mck0AOBAyAMY6e9LmmZozxQA/NGaheZI1LOcKoySe1RWV/b6jarcWknmRMThh0OKALL8qep+lACdStJmjNADvk/u/pRhPQ03NGaAHfu/7p/Kj5P7v6U3NGaAHfJ/d/Sj5P7v6U3NGaAHfJ/d/Sj5P7v6U3NLmgBfk/u/pR8n939KZvHc0uaAHfJ/d/Sj5P7v6U3NGaAHfJ/d/Sj5P7v6U3NGaAHfJ/d/Sj5P7v6U3NGaAHfJ/d/Sj5P7v6U3NGaAHfJ/d/SlGw9sH6UzNGaAHDA6DBpc0zNGaAH5ozTM0ZoAfmjNMzRmgB+aM0zNGaAH5opmaKAG5ozTM0ZoAfmjNMzRmgB+aM0zNGaAH5ozTM0ZoAfmjNMzRmgB+aM0zNGaAH5ozTM0ZoAfmjNMzRmgB+aM0zNGaAH5ozTM0ZoAfmjNMzRmgB+aM0zNGaAH5ozTM0ZoAfmjNMzRmgB+/b0GapXmnQXthdW0iDy7iNkcY65GCatZo3UAeJfAq9k0HxB4i8G3h2m0nMsQP1wcfhg17fu5/CvDPG8b+C/jjoviWJfLs9TItrgjoW7/AKc17akqyAMpyCODQBxfw+P/ABU/jj/sNH/0AV3Wa4P4fn/ipvG//YaP/oArus80AZHirxLYeFdBn1PU5FWKJSQpPLnsBXnfgmCDXdYbxj4u1C1FzLzY2jTLi3j7d+tdF4++GNp8QLiA6jqd5BFCuBDCRtJ9cGuS/wCGa/D6qANZ1MAdBlaAPWDr+kbhjU7PGP8Anuv+NH/CQaR/0E7P/v8Ar/jXk3/DNnh//oNap+a0f8M2+H/+g1qf5rQB6vJ4l0SFd0urWKD1Nwo/rWHqvxU8F6Mge91+0PJwsTeYSfT5c1wZ/Zr8PN11jUz9dtM/4Zn8N541TUB74WgDF8SfGi58c6vb+GfBkEtvDeTLG1y5w7qTyAOwr3vSbJdM0u3sYxhLeMIPfA61534O+CGheDvEMWr2l3cXUsakKs4GASOvHevTQcUASZozTM0ZoAfmjNMzRmgB+aM0zNGaAH5ozTM0ZoAfmkLEKcCm5pGORgHBoA5PxF4l1CCXURo/2cR6XAJrh50LDJGQvBHJAPNUfDfji+8a6NBdaFZpAWX99NOSUjb0A/irP+Md5Fovw+1H7MMXGqyrDx1YsQP5V1HgrSovDvgfTrIII/Jt1MhIwckZOaAM/Q/GV63j6+8J62lubmC2W5iuIAVWRWOMbTnB79a7UMD0rxv4dTLrvxH8V+M7ljHaRMLSBm6FV5J/DH617BHJHJEjxHKsu5SO4NAEuaM0zNGaAH5ozTM0ZoAfmjNMzRmgB+aM0zNGaAH5ozTM0ZoAfmjNMzRmgB+aM0zNGaAH5ozTM0ZoAfmimZooAZmjNNzRmgB2aM03NGaAHZozTc0ZoAdmjNNzRmgB2aM03NGaAHZozTc0ZoAdmjNNzRmgB2aM03NGaAHZozTc0ZoAdmjNNzRmgB2aM03NGaAHZozTc0ZoAdmjNNzRmgB2aM03NGaAHZoJpuaM0AecfG/Qm1bwDJdQjNxp8guY/wAOtb/w719fEXgfTr0Nuk8oRyEf3l4Nbup2ceo6bcWkyhkmjZCD7ivIfglfPo2sa94SuiQbOdpYlb+77UAdl4AP/FTeN/8AsMn/ANAFdzmuE8An/ipvGw/6jJP/AI4K7nNABISBkPtx1rOsvEVnfaxc6XG7G6tkDSKVIwD0OelLrGppptqrlDI8jhI41/iY9BWR4W8Vw+IL3U4XtVt7qxm8iUrhg3GeD3oA6nNG6udvvGekafeyWty1wJYzhttuxH51X/4T/Q/791/4DNQB1W6oLm+trOFprqZYo1BJdzgDFYVp410e9u47eBrgySHaoa3YDP1q1r+m2WoaTO2oWkdyYonZN44X5TQBa0XXdO8RaaL/AEa6W6tSzIJFBAJHB61oZrzj4H4X4bxBF2r9rnwM9Pnr0XNADs0ZpuaM0AOzRmm5ozQA7NGabmjNADs0ZpuaM0AOzSjB60zNGaAOL8e+DLrxdqGhRRypHYWN39onB6tgdBXWXdsbnTZrUMyiSJowfTIxmrGaM0AeeeFvA+r6P4fj8PXbWw09Z2klmikJknUnO0jHGe/NehxIIlCqMADAHoKM0ZoAdmjNNzRmgB2aM03NGaAHZozTc0ZoAdmjNNzRmgB2aM03NGaAHZozTc0ZoAdmjNNzRmgB2aM03NGaAHZopuaKAGZozTM0ZoAfmjNMzRmgB+aM0zNGaAH5ozTM0ZoAfmjNMzRmgB+aM0zNGaAH5ozTM0ZoAfmjNMzRmgB+aM0zNGaAH5ozTM0ZoAfmjNMzRmgB+aM0zNGaAH5ozTM0ZoAfmjNMzRmgB+aM0zNGaAH9eleJeMt3gv44aTr8a+XZ6mBbXB7FiQP8K9pZmAyvWvNPjnoD6t8P5L2BT9q09xOrDqAOv9PyoA1Ph6yt4m8bMpznWD2/2BXd5ryf4Fas+uaXrupSDD3F8rH/AL4A/pXquaAMvxRfR6Z4du9Qkj3m1iaROM4YDiuQ+FyfYtEgWSLzbzUd17cuCP3e4/KD/ntXfzQpcRlJUV0IIZWGQQar2GmWWmRmOwtYrZD/AAxjFAGTqOoeJo7+RLLw9aXUAPyTPfbCw9xt4qr/AGn4u/6FWx/8GX/2FdZmjNAHM2d/4nlvYVu/Dlnbw7hvlW/3FR64281taxOkOiXrSuqKLeTJPb5TVw1S1HR7DV41j1K0juUXJCyDIGaAOI+CE0Z+HMIDqT9qnPB9W4r0fNYFh4Q8P6TOkum6RbW7g8GJSNvv1rbDNu5+7jigCTNGaZmjNAD80ZpmaM0APzRmmZozQA/NGaZmjNAD80ZpmaM0APzRmmZozQA/NGaZmjNAD80ZpmaM0APzRmmZozQA/NGaZmjNAD80ZpmaM0APzRmmZozQA/NGaZmjNAD80ZpmaM0APzRmmZozQA/NFMzRQA3NGaZmjNAD80ZpmaM0APzRmmZozQA/NGaZmjNAD80ZpmaM0APzRmmZozQA/NGaZmjNAD80ZpmaM0APzRmmZozQA/NGaZmjNAD80ZpmaM0APzRmmZozQA/NGaZmjNAD80ZpmaM0APzRmmZozQA/NVNTs4tS0+ezuBujnjaJh7EYqxmjdxQB5n8EtFuPD+la3YXUTRtFqDKu4feUZwfyr0/NRgKuSoUbuTgUuaAH5ozTM0ZoAfmjNMzRmgB+aM0zNGaAH5ozTM0ZoAfmjNMzRmgB+aM0zNGaAH5ozTM0ZoAfmjNMzRmgB+aM0zNGaAH5ozTM0ZoAfmjNMzRmgB+aM0zNGaAH5ozTM0ZoAfmjNMzRmgB+aM0zNGaAH5ozTM0ZoAfmjNMzRmgB+aM0zNGaAH5ozTM0ZoAfmimZooAZmjNNzRmgB2aM03NGaAHZozTc0ZoAdmjNNzRmgB2aM03NGaAHZozTc0ZoAdmjNNzRmgB2aM03NGaAHZozTc0ZoAdmjNNzRmgB2aM03NGaAHZozTc0ZoAdmjNNzRmgB2aM03NGaAHZozTc0ZoAdmjNNzRmgB2aM03NGaAHZozTc0ZoAdmjNNzRmgB2aM03NGaAHZozTc0ZoAdmjNNzRmgB2aM03NGaAHZozTc0ZoAdmjNNzRmgB2aM03NGaAHZozTc0ZoAdmjNNzRmgB2aM03NGaAHZozTc0ZoAdmjNNzRmgB2aM03NGaAHZozTc0ZoAdmjNNzRmgB2aM03NGaAHZozTc0ZoAdmim5ooAbmjNNzRmgB2aM03NGaAHZozTc0ZoAdmjNNzRmgB2aM03NGaAHZozTc0ZoAdmjNNzRmgB2aM03NGaAHZozTc0ZoAdmjNNzRmgB2aM03NGaAHZozTc0ZoAdmjNNzRmgB2aM03NGaAHZozTc0ZoAdmjNNzRmgB2aM03NGaAHZozTc0ZoAdmjNNzRmgB2aM03NGaAHZozTc0ZoAdmjNNzRmgB2aM03NGaAHZozTc0ZoAdmjNNzRmgB2aM03NGaAHZozTc0ZoAdmjNNzRmgB2aM03NGaAHZozTc0ZoAdmjNNzRmgB2aM03NGaAHZozTc0ZoAdmjNNzRmgB2aM03NGaAHZozTc0ZoAdmim5ooASiiigAooooAKKKKACiiigAooooAKKKKACiiigAooooAKKKKACiiigAooooAKKKKACiiigAooooAKKKKACiiigAooooAKKKKACiiigAooooAKKKKACiiigAooooAKKKKACiiigAooooAKKKKACiiigAooooAKKKKACiiigAooooAKKKKACiiigAooooAKKKKACiiigD//Z)"
      ]
    },
    {
      "cell_type": "code",
      "metadata": {
        "colab": {
          "base_uri": "https://localhost:8080/"
        },
        "id": "i87tPJ2AVXZr",
        "outputId": "fa45d944-cd25-487e-8f9d-c51604b3317b"
      },
      "source": [
        "# Calculando margem de erro do modelo com RMS E\n",
        "\n",
        "Previsoes = funcao_regressao.predict(x_teste)\n",
        "\n",
        "from sklearn import metrics\n",
        "\n",
        "print('RMS E', np.sqrt(metrics.mean_squared_error(y_teste, Previsoes)))\n"
      ],
      "execution_count": 45,
      "outputs": [
        {
          "output_type": "stream",
          "text": [
            "RMS E 64.65815528322007\n"
          ],
          "name": "stdout"
        }
      ]
    },
    {
      "cell_type": "code",
      "metadata": {
        "colab": {
          "base_uri": "https://localhost:8080/"
        },
        "id": "kYow3SycWyvb",
        "outputId": "ad6bc3a1-4d97-4b89-952d-0bfd0b38e464"
      },
      "source": [
        "# Simulaçaodo crédito a com base no salario do colaborador.\n",
        "#Para um salário de R$ 1800\n",
        "print(funcao_regressao.predict([[1800]]))"
      ],
      "execution_count": 52,
      "outputs": [
        {
          "output_type": "stream",
          "text": [
            "[[4168.8835406]]\n"
          ],
          "name": "stdout"
        }
      ]
    },
    {
      "cell_type": "code",
      "metadata": {
        "colab": {
          "base_uri": "https://localhost:8080/"
        },
        "id": "KzbZulk2Yv8V",
        "outputId": "529a6935-71a8-435f-b8d5-c12d51a56fbd"
      },
      "source": [
        "# Simulaçaodo crédito a com base no salario do colaborador.\n",
        "#Para um salário de R$ 5400\n",
        "print(funcao_regressao.predict([[5400]]))"
      ],
      "execution_count": 51,
      "outputs": [
        {
          "output_type": "stream",
          "text": [
            "[[12462.4126462]]\n"
          ],
          "name": "stdout"
        }
      ]
    },
    {
      "cell_type": "code",
      "metadata": {
        "id": "cj7St5v1Z8D5"
      },
      "source": [
        ""
      ],
      "execution_count": null,
      "outputs": []
    }
  ]
}