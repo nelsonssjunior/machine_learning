{
  "nbformat": 4,
  "nbformat_minor": 5,
  "metadata": {
    "kernelspec": {
      "display_name": "Python 3",
      "language": "python",
      "name": "python3"
    },
    "language_info": {
      "codemirror_mode": {
        "name": "ipython",
        "version": 3
      },
      "file_extension": ".py",
      "mimetype": "text/x-python",
      "name": "python",
      "nbconvert_exporter": "python",
      "pygments_lexer": "ipython3",
      "version": "3.8.8"
    },
    "colab": {
      "name": "Regressão_logística.ipynb",
      "provenance": [],
      "collapsed_sections": []
    }
  },
  "cells": [
    {
      "cell_type": "markdown",
      "metadata": {
        "id": "f4870370"
      },
      "source": [
        "## Caso em análise:\n",
        "\n",
        "### 1 - Aplicação de modelo de regressão logística para analisar probabilidade de compra de imóvel com base nos dados fornecidos pelos clientes de um corretora fictícia.\n",
        "\n",
        "### Resultado esperado: Após o input dos dados os corretores serão capazes de visualizar a chance de venda do imóvel para cada cliente analisado."
      ],
      "id": "f4870370"
    },
    {
      "cell_type": "code",
      "metadata": {
        "id": "43b3c810"
      },
      "source": [
        "#Importando as bibliotecas necessárias\n",
        "\n",
        "import pandas as pd\n",
        "import numpy as np\n",
        "import matplotlib.pyplot as plt\n",
        "import seaborn as sns"
      ],
      "id": "43b3c810",
      "execution_count": 1,
      "outputs": []
    },
    {
      "cell_type": "code",
      "metadata": {
        "id": "f99a6f5c"
      },
      "source": [
        "# Importando a base de estudos (dados)\n",
        "\n",
        "base_dados = pd.read_excel('BaseDados_RegressaoLogistica.xlsx','Plan1')"
      ],
      "id": "f99a6f5c",
      "execution_count": 2,
      "outputs": []
    },
    {
      "cell_type": "code",
      "metadata": {
        "colab": {
          "base_uri": "https://localhost:8080/",
          "height": 204
        },
        "id": "b11c0b69",
        "outputId": "d3d1c663-f462-48eb-987b-070f089f5c35"
      },
      "source": [
        "# Visualizando o cabeçalho\n",
        "\n",
        "base_dados.head(5)"
      ],
      "id": "b11c0b69",
      "execution_count": 3,
      "outputs": [
        {
          "output_type": "execute_result",
          "data": {
            "text/html": [
              "<div>\n",
              "<style scoped>\n",
              "    .dataframe tbody tr th:only-of-type {\n",
              "        vertical-align: middle;\n",
              "    }\n",
              "\n",
              "    .dataframe tbody tr th {\n",
              "        vertical-align: top;\n",
              "    }\n",
              "\n",
              "    .dataframe thead th {\n",
              "        text-align: right;\n",
              "    }\n",
              "</style>\n",
              "<table border=\"1\" class=\"dataframe\">\n",
              "  <thead>\n",
              "    <tr style=\"text-align: right;\">\n",
              "      <th></th>\n",
              "      <th>Id Cliente</th>\n",
              "      <th>Renda</th>\n",
              "      <th>Tipo Renda</th>\n",
              "      <th>Possui Imóvel</th>\n",
              "      <th>Comprou?</th>\n",
              "    </tr>\n",
              "  </thead>\n",
              "  <tbody>\n",
              "    <tr>\n",
              "      <th>0</th>\n",
              "      <td>1</td>\n",
              "      <td>10480</td>\n",
              "      <td>1</td>\n",
              "      <td>2</td>\n",
              "      <td>1</td>\n",
              "    </tr>\n",
              "    <tr>\n",
              "      <th>1</th>\n",
              "      <td>2</td>\n",
              "      <td>6182</td>\n",
              "      <td>2</td>\n",
              "      <td>2</td>\n",
              "      <td>1</td>\n",
              "    </tr>\n",
              "    <tr>\n",
              "      <th>2</th>\n",
              "      <td>3</td>\n",
              "      <td>6387</td>\n",
              "      <td>3</td>\n",
              "      <td>1</td>\n",
              "      <td>0</td>\n",
              "    </tr>\n",
              "    <tr>\n",
              "      <th>3</th>\n",
              "      <td>4</td>\n",
              "      <td>6528</td>\n",
              "      <td>1</td>\n",
              "      <td>2</td>\n",
              "      <td>0</td>\n",
              "    </tr>\n",
              "    <tr>\n",
              "      <th>4</th>\n",
              "      <td>5</td>\n",
              "      <td>8269</td>\n",
              "      <td>1</td>\n",
              "      <td>2</td>\n",
              "      <td>0</td>\n",
              "    </tr>\n",
              "  </tbody>\n",
              "</table>\n",
              "</div>"
            ],
            "text/plain": [
              "   Id Cliente  Renda  Tipo Renda  Possui Imóvel  Comprou?\n",
              "0           1  10480           1              2         1\n",
              "1           2   6182           2              2         1\n",
              "2           3   6387           3              1         0\n",
              "3           4   6528           1              2         0\n",
              "4           5   8269           1              2         0"
            ]
          },
          "metadata": {
            "tags": []
          },
          "execution_count": 3
        }
      ]
    },
    {
      "cell_type": "code",
      "metadata": {
        "colab": {
          "base_uri": "https://localhost:8080/",
          "height": 204
        },
        "id": "12581480",
        "outputId": "6795f97e-2c61-440e-88e1-a034c6bdc3c0"
      },
      "source": [
        "# Visualizando a \"cauda\" da tabela \n",
        "\n",
        "base_dados.tail(5)"
      ],
      "id": "12581480",
      "execution_count": 4,
      "outputs": [
        {
          "output_type": "execute_result",
          "data": {
            "text/html": [
              "<div>\n",
              "<style scoped>\n",
              "    .dataframe tbody tr th:only-of-type {\n",
              "        vertical-align: middle;\n",
              "    }\n",
              "\n",
              "    .dataframe tbody tr th {\n",
              "        vertical-align: top;\n",
              "    }\n",
              "\n",
              "    .dataframe thead th {\n",
              "        text-align: right;\n",
              "    }\n",
              "</style>\n",
              "<table border=\"1\" class=\"dataframe\">\n",
              "  <thead>\n",
              "    <tr style=\"text-align: right;\">\n",
              "      <th></th>\n",
              "      <th>Id Cliente</th>\n",
              "      <th>Renda</th>\n",
              "      <th>Tipo Renda</th>\n",
              "      <th>Possui Imóvel</th>\n",
              "      <th>Comprou?</th>\n",
              "    </tr>\n",
              "  </thead>\n",
              "  <tbody>\n",
              "    <tr>\n",
              "      <th>95</th>\n",
              "      <td>96</td>\n",
              "      <td>3238</td>\n",
              "      <td>1</td>\n",
              "      <td>2</td>\n",
              "      <td>0</td>\n",
              "    </tr>\n",
              "    <tr>\n",
              "      <th>96</th>\n",
              "      <td>97</td>\n",
              "      <td>10701</td>\n",
              "      <td>1</td>\n",
              "      <td>2</td>\n",
              "      <td>1</td>\n",
              "    </tr>\n",
              "    <tr>\n",
              "      <th>97</th>\n",
              "      <td>98</td>\n",
              "      <td>14732</td>\n",
              "      <td>1</td>\n",
              "      <td>2</td>\n",
              "      <td>0</td>\n",
              "    </tr>\n",
              "    <tr>\n",
              "      <th>98</th>\n",
              "      <td>99</td>\n",
              "      <td>4790</td>\n",
              "      <td>1</td>\n",
              "      <td>2</td>\n",
              "      <td>1</td>\n",
              "    </tr>\n",
              "    <tr>\n",
              "      <th>99</th>\n",
              "      <td>100</td>\n",
              "      <td>14026</td>\n",
              "      <td>2</td>\n",
              "      <td>2</td>\n",
              "      <td>1</td>\n",
              "    </tr>\n",
              "  </tbody>\n",
              "</table>\n",
              "</div>"
            ],
            "text/plain": [
              "    Id Cliente  Renda  Tipo Renda  Possui Imóvel  Comprou?\n",
              "95          96   3238           1              2         0\n",
              "96          97  10701           1              2         1\n",
              "97          98  14732           1              2         0\n",
              "98          99   4790           1              2         1\n",
              "99         100  14026           2              2         1"
            ]
          },
          "metadata": {
            "tags": []
          },
          "execution_count": 4
        }
      ]
    },
    {
      "cell_type": "code",
      "metadata": {
        "colab": {
          "base_uri": "https://localhost:8080/",
          "height": 297
        },
        "id": "4c11fe27",
        "outputId": "20362659-c79f-4902-a6ed-ce65194988b7"
      },
      "source": [
        "# Resumo dos dados na tabela\n",
        "\n",
        "base_dados.describe()"
      ],
      "id": "4c11fe27",
      "execution_count": 5,
      "outputs": [
        {
          "output_type": "execute_result",
          "data": {
            "text/html": [
              "<div>\n",
              "<style scoped>\n",
              "    .dataframe tbody tr th:only-of-type {\n",
              "        vertical-align: middle;\n",
              "    }\n",
              "\n",
              "    .dataframe tbody tr th {\n",
              "        vertical-align: top;\n",
              "    }\n",
              "\n",
              "    .dataframe thead th {\n",
              "        text-align: right;\n",
              "    }\n",
              "</style>\n",
              "<table border=\"1\" class=\"dataframe\">\n",
              "  <thead>\n",
              "    <tr style=\"text-align: right;\">\n",
              "      <th></th>\n",
              "      <th>Id Cliente</th>\n",
              "      <th>Renda</th>\n",
              "      <th>Tipo Renda</th>\n",
              "      <th>Possui Imóvel</th>\n",
              "      <th>Comprou?</th>\n",
              "    </tr>\n",
              "  </thead>\n",
              "  <tbody>\n",
              "    <tr>\n",
              "      <th>count</th>\n",
              "      <td>100.000000</td>\n",
              "      <td>100.00000</td>\n",
              "      <td>100.000000</td>\n",
              "      <td>100.00000</td>\n",
              "      <td>100.000000</td>\n",
              "    </tr>\n",
              "    <tr>\n",
              "      <th>mean</th>\n",
              "      <td>50.500000</td>\n",
              "      <td>8520.77000</td>\n",
              "      <td>1.400000</td>\n",
              "      <td>1.85000</td>\n",
              "      <td>0.640000</td>\n",
              "    </tr>\n",
              "    <tr>\n",
              "      <th>std</th>\n",
              "      <td>29.011492</td>\n",
              "      <td>4039.01965</td>\n",
              "      <td>0.710669</td>\n",
              "      <td>0.35887</td>\n",
              "      <td>0.482418</td>\n",
              "    </tr>\n",
              "    <tr>\n",
              "      <th>min</th>\n",
              "      <td>1.000000</td>\n",
              "      <td>1643.00000</td>\n",
              "      <td>1.000000</td>\n",
              "      <td>1.00000</td>\n",
              "      <td>0.000000</td>\n",
              "    </tr>\n",
              "    <tr>\n",
              "      <th>25%</th>\n",
              "      <td>25.750000</td>\n",
              "      <td>5455.25000</td>\n",
              "      <td>1.000000</td>\n",
              "      <td>2.00000</td>\n",
              "      <td>0.000000</td>\n",
              "    </tr>\n",
              "    <tr>\n",
              "      <th>50%</th>\n",
              "      <td>50.500000</td>\n",
              "      <td>8824.00000</td>\n",
              "      <td>1.000000</td>\n",
              "      <td>2.00000</td>\n",
              "      <td>1.000000</td>\n",
              "    </tr>\n",
              "    <tr>\n",
              "      <th>75%</th>\n",
              "      <td>75.250000</td>\n",
              "      <td>12036.00000</td>\n",
              "      <td>2.000000</td>\n",
              "      <td>2.00000</td>\n",
              "      <td>1.000000</td>\n",
              "    </tr>\n",
              "    <tr>\n",
              "      <th>max</th>\n",
              "      <td>100.000000</td>\n",
              "      <td>14994.00000</td>\n",
              "      <td>3.000000</td>\n",
              "      <td>2.00000</td>\n",
              "      <td>1.000000</td>\n",
              "    </tr>\n",
              "  </tbody>\n",
              "</table>\n",
              "</div>"
            ],
            "text/plain": [
              "       Id Cliente        Renda  Tipo Renda  Possui Imóvel    Comprou?\n",
              "count  100.000000    100.00000  100.000000      100.00000  100.000000\n",
              "mean    50.500000   8520.77000    1.400000        1.85000    0.640000\n",
              "std     29.011492   4039.01965    0.710669        0.35887    0.482418\n",
              "min      1.000000   1643.00000    1.000000        1.00000    0.000000\n",
              "25%     25.750000   5455.25000    1.000000        2.00000    0.000000\n",
              "50%     50.500000   8824.00000    1.000000        2.00000    1.000000\n",
              "75%     75.250000  12036.00000    2.000000        2.00000    1.000000\n",
              "max    100.000000  14994.00000    3.000000        2.00000    1.000000"
            ]
          },
          "metadata": {
            "tags": []
          },
          "execution_count": 5
        }
      ]
    },
    {
      "cell_type": "code",
      "metadata": {
        "colab": {
          "base_uri": "https://localhost:8080/"
        },
        "id": "f8f29ee8",
        "outputId": "a51defb1-a714-40b1-b65b-bd4e1d4de932"
      },
      "source": [
        "# Descrição dos tipos de dados na tabela\n",
        "\n",
        "base_dados.info()"
      ],
      "id": "f8f29ee8",
      "execution_count": 6,
      "outputs": [
        {
          "output_type": "stream",
          "text": [
            "<class 'pandas.core.frame.DataFrame'>\n",
            "RangeIndex: 100 entries, 0 to 99\n",
            "Data columns (total 5 columns):\n",
            " #   Column         Non-Null Count  Dtype\n",
            "---  ------         --------------  -----\n",
            " 0   Id Cliente     100 non-null    int64\n",
            " 1   Renda          100 non-null    int64\n",
            " 2   Tipo Renda     100 non-null    int64\n",
            " 3   Possui Imóvel  100 non-null    int64\n",
            " 4   Comprou?       100 non-null    int64\n",
            "dtypes: int64(5)\n",
            "memory usage: 4.0 KB\n"
          ],
          "name": "stdout"
        }
      ]
    },
    {
      "cell_type": "code",
      "metadata": {
        "colab": {
          "base_uri": "https://localhost:8080/",
          "height": 1000
        },
        "id": "9cd037e6",
        "outputId": "5fa4e154-f5d0-4f03-c0f8-99a472d70119"
      },
      "source": [
        "# Explração dos dados na tabela\n",
        "\n",
        "sns.set(font_scale=1.3, rc={'figure.figsize':(20,20)})\n",
        "eixo = base_dados.hist(bins=20,color='blue');"
      ],
      "id": "9cd037e6",
      "execution_count": 7,
      "outputs": [
        {
          "output_type": "display_data",
          "data": {
            "image/png": "[encoded data removed]",
            "text/plain": [
              "<Figure size 1440x1440 with 6 Axes>"
            ]
          },
          "metadata": {
            "tags": []
          }
        }
      ]
    },
    {
      "cell_type": "code",
      "metadata": {
        "colab": {
          "base_uri": "https://localhost:8080/",
          "height": 345
        },
        "id": "b431a0b6",
        "outputId": "c698c542-fe2b-45ab-ff23-817c2543fee8"
      },
      "source": [
        "# Visualização dos tipos de renda\n",
        "\n",
        "plt.figure(figsize=(10,5))\n",
        "sns.boxplot(data=base_dados, x='Tipo Renda', y='Renda');"
      ],
      "id": "b431a0b6",
      "execution_count": 8,
      "outputs": [
        {
          "output_type": "display_data",
          "data": {
            "image/png": "[encoded data removed]",
            "text/plain": [
              "<Figure size 720x360 with 1 Axes>"
            ]
          },
          "metadata": {
            "tags": []
          }
        }
      ]
    },
    {
      "cell_type": "code",
      "metadata": {
        "colab": {
          "base_uri": "https://localhost:8080/",
          "height": 345
        },
        "id": "a76dcb30",
        "outputId": "9b53d80b-ede2-4c03-deae-22374bbe316d"
      },
      "source": [
        "# Se possuem imóveis ou não\n",
        "\n",
        "plt.figure(figsize=(10,5))\n",
        "sns.boxplot(data=base_dados, x='Possui Imóvel', y='Renda');"
      ],
      "id": "a76dcb30",
      "execution_count": 9,
      "outputs": [
        {
          "output_type": "display_data",
          "data": {
            "image/png": "[encoded data removed]",
            "text/plain": [
              "<Figure size 720x360 with 1 Axes>"
            ]
          },
          "metadata": {
            "tags": []
          }
        }
      ]
    },
    {
      "cell_type": "code",
      "metadata": {
        "colab": {
          "base_uri": "https://localhost:8080/",
          "height": 345
        },
        "id": "a685cb9d",
        "outputId": "3710f8ec-ec89-493e-c0bd-f5b14e533083"
      },
      "source": [
        "# Quem comprou imóvel\n",
        "\n",
        "plt.figure(figsize=(10,5))\n",
        "sns.boxplot(data=base_dados, x='Comprou?', y='Renda');"
      ],
      "id": "a685cb9d",
      "execution_count": 10,
      "outputs": [
        {
          "output_type": "display_data",
          "data": {
            "image/png": "[encoded data removed]",
            "text/plain": [
              "<Figure size 720x360 with 1 Axes>"
            ]
          },
          "metadata": {
            "tags": []
          }
        }
      ]
    },
    {
      "cell_type": "code",
      "metadata": {
        "colab": {
          "base_uri": "https://localhost:8080/",
          "height": 345
        },
        "id": "2ca07382",
        "outputId": "2d731c52-df2c-475e-90c9-1a3ace951ae8"
      },
      "source": [
        "# Distribuição dos dados\n",
        "\n",
        "plt.figure(figsize=(10,5))\n",
        "sns.scatterplot(data=base_dados, x='Renda', y='Comprou?');"
      ],
      "id": "2ca07382",
      "execution_count": 11,
      "outputs": [
        {
          "output_type": "display_data",
          "data": {
            "image/png": "[encoded data removed]",
            "text/plain": [
              "<Figure size 720x360 with 1 Axes>"
            ]
          },
          "metadata": {
            "tags": []
          }
        }
      ]
    },
    {
      "cell_type": "code",
      "metadata": {
        "id": "1180751c"
      },
      "source": [
        "#Selecionando os dados e transformando-os em arrays\n",
        "\n",
        "caracteristica = base_dados.iloc[:,1:4].values\n",
        "previsor = base_dados.iloc[:,4:5].values"
      ],
      "id": "1180751c",
      "execution_count": 12,
      "outputs": []
    },
    {
      "cell_type": "code",
      "metadata": {
        "id": "9d4f35ab"
      },
      "source": [
        "# Fatiando os dados para treino do modelo 80/20\n",
        "\n",
        "from sklearn.model_selection import train_test_split\n",
        "\n",
        "x_treino, x_teste, y_treino, y_teste = train_test_split(caracteristica, previsor, test_size=0.20)"
      ],
      "id": "9d4f35ab",
      "execution_count": 13,
      "outputs": []
    },
    {
      "cell_type": "code",
      "metadata": {
        "colab": {
          "base_uri": "https://localhost:8080/"
        },
        "id": "100a1c07",
        "outputId": "e29c5f3d-7317-44ca-df89-e91e4ce6e33c"
      },
      "source": [
        "# visualizando o corte dos dados\n",
        "\n",
        "print(len(x_treino))\n",
        "print(len(x_teste))"
      ],
      "id": "100a1c07",
      "execution_count": 14,
      "outputs": [
        {
          "output_type": "stream",
          "text": [
            "80\n",
            "20\n"
          ],
          "name": "stdout"
        }
      ]
    },
    {
      "cell_type": "code",
      "metadata": {
        "colab": {
          "base_uri": "https://localhost:8080/"
        },
        "id": "813fedef",
        "outputId": "af470250-1416-43c3-b74e-66698435bde6"
      },
      "source": [
        "from sklearn.linear_model import LogisticRegression\n",
        "\n",
        "funcao_logistica = LogisticRegression()\n",
        "funcao_logistica.fit(x_treino, y_treino)"
      ],
      "id": "813fedef",
      "execution_count": 19,
      "outputs": [
        {
          "output_type": "stream",
          "text": [
            "/usr/local/lib/python3.7/dist-packages/sklearn/utils/validation.py:760: DataConversionWarning: A column-vector y was passed when a 1d array was expected. Please change the shape of y to (n_samples, ), for example using ravel().\n",
            "  y = column_or_1d(y, warn=True)\n"
          ],
          "name": "stderr"
        },
        {
          "output_type": "execute_result",
          "data": {
            "text/plain": [
              "LogisticRegression(C=1.0, class_weight=None, dual=False, fit_intercept=True,\n",
              "                   intercept_scaling=1, l1_ratio=None, max_iter=100,\n",
              "                   multi_class='auto', n_jobs=None, penalty='l2',\n",
              "                   random_state=None, solver='lbfgs', tol=0.0001, verbose=0,\n",
              "                   warm_start=False)"
            ]
          },
          "metadata": {
            "tags": []
          },
          "execution_count": 19
        }
      ]
    },
    {
      "cell_type": "code",
      "metadata": {
        "id": "1bee1ec4"
      },
      "source": [
        "previsoes = funcao_logistica.predict(x_teste)"
      ],
      "id": "1bee1ec4",
      "execution_count": 20,
      "outputs": []
    },
    {
      "cell_type": "code",
      "metadata": {
        "colab": {
          "base_uri": "https://localhost:8080/"
        },
        "id": "9f205718",
        "outputId": "0d600eed-7a61-4c7b-be55-8228b4ffa780"
      },
      "source": [
        "previsoes"
      ],
      "id": "9f205718",
      "execution_count": 21,
      "outputs": [
        {
          "output_type": "execute_result",
          "data": {
            "text/plain": [
              "array([0, 1, 1, 1, 0, 0, 0, 1, 1, 0, 1, 1, 1, 1, 1, 0, 1, 0, 0, 1])"
            ]
          },
          "metadata": {
            "tags": []
          },
          "execution_count": 21
        }
      ]
    },
    {
      "cell_type": "code",
      "metadata": {
        "colab": {
          "base_uri": "https://localhost:8080/"
        },
        "id": "yUkB4vmnPcdr",
        "outputId": "d2ea8712-e432-478c-d5c0-8df2e69512b3"
      },
      "source": [
        "# Gerando a matriz de confusão para análise de assertividade do modelo\n",
        "\n",
        "from sklearn.metrics import confusion_matrix\n",
        "\n",
        "confusion_matrix(y_teste, previsoes)"
      ],
      "id": "yUkB4vmnPcdr",
      "execution_count": 25,
      "outputs": [
        {
          "output_type": "execute_result",
          "data": {
            "text/plain": [
              "array([[ 6,  2],\n",
              "       [ 2, 10]])"
            ]
          },
          "metadata": {
            "tags": []
          },
          "execution_count": 25
        }
      ]
    },
    {
      "cell_type": "code",
      "metadata": {
        "colab": {
          "base_uri": "https://localhost:8080/"
        },
        "id": "r-rwX3S2Pqaq",
        "outputId": "93e1589a-48fb-441d-9018-387fef949732"
      },
      "source": [
        "# Segunda análise de assertividade do moedelo\n",
        "\n",
        "from sklearn.metrics import classification_report\n",
        "\n",
        "print(classification_report(y_teste, previsoes))"
      ],
      "id": "r-rwX3S2Pqaq",
      "execution_count": 26,
      "outputs": [
        {
          "output_type": "stream",
          "text": [
            "              precision    recall  f1-score   support\n",
            "\n",
            "           0       0.75      0.75      0.75         8\n",
            "           1       0.83      0.83      0.83        12\n",
            "\n",
            "    accuracy                           0.80        20\n",
            "   macro avg       0.79      0.79      0.79        20\n",
            "weighted avg       0.80      0.80      0.80        20\n",
            "\n"
          ],
          "name": "stdout"
        }
      ]
    },
    {
      "cell_type": "code",
      "metadata": {
        "colab": {
          "base_uri": "https://localhost:8080/"
        },
        "id": "uJjM7yvxSkvS",
        "outputId": "8a5d0468-ee86-45d4-b5bb-2fdac12827c2"
      },
      "source": [
        "#Testando modelo com novo cliente*\n",
        "\n",
        "Salario = 4500\n",
        "Tipo_Renda = 1\n",
        "Possui_imovel = 1\n",
        "\n",
        "parametro = [[Salario, Tipo_Renda, Possui_imovel]]\n",
        "\n",
        "fazendo_previsao = funcao_logistica.predict(parametro)\n",
        "probabilidade = funcao_logistica.predict_proba(parametro)\n",
        "\n",
        "if fazendo_previsao == 0:\n",
        "  print('Deu ruim')\n",
        "  print(probabilidade)\n",
        "else:\n",
        "  print('Fechou ! \\o/')\n",
        "  print(probabilidade)"
      ],
      "id": "uJjM7yvxSkvS",
      "execution_count": 27,
      "outputs": [
        {
          "output_type": "stream",
          "text": [
            "Fechou ! \\o/\n",
            "[[0.45671719 0.54328281]]\n"
          ],
          "name": "stdout"
        }
      ]
    },
    {
      "cell_type": "code",
      "metadata": {
        "colab": {
          "base_uri": "https://localhost:8080/"
        },
        "id": "65lBgRruUg0D",
        "outputId": "a07bb6b8-62a1-4f6e-985a-a29a2f63a04b"
      },
      "source": [
        "#Testando modelo com novo cliente 2*\n",
        "\n",
        "Salario = 8500\n",
        "Tipo_Renda = 0\n",
        "Possui_imovel = 0\n",
        "\n",
        "parametro = [[Salario, Tipo_Renda, Possui_imovel]]\n",
        "\n",
        "fazendo_previsao = funcao_logistica.predict(parametro)\n",
        "probabilidade = funcao_logistica.predict_proba(parametro)\n",
        "\n",
        "if fazendo_previsao == 0:\n",
        "  print('Deu ruim')\n",
        "  print(probabilidade)\n",
        "else:\n",
        "  print('Fechou ! \\o/')\n",
        "  print(probabilidade)"
      ],
      "id": "65lBgRruUg0D",
      "execution_count": 28,
      "outputs": [
        {
          "output_type": "stream",
          "text": [
            "Fechou ! \\o/\n",
            "[[0.07517247 0.92482753]]\n"
          ],
          "name": "stdout"
        }
      ]
    },
    {
      "cell_type": "code",
      "metadata": {
        "colab": {
          "base_uri": "https://localhost:8080/"
        },
        "id": "vLtAYvBpUylc",
        "outputId": "5f6177dd-3f22-4d00-8003-70f61ebb55b6"
      },
      "source": [
        "#Testando modelo com novo cliente 3*\n",
        "\n",
        "Salario = 2500\n",
        "Tipo_Renda = 3\n",
        "Possui_imovel = 0\n",
        "\n",
        "parametro = [[Salario, Tipo_Renda, Possui_imovel]]\n",
        "\n",
        "fazendo_previsao = funcao_logistica.predict(parametro)\n",
        "probabilidade = funcao_logistica.predict_proba(parametro)\n",
        "\n",
        "if fazendo_previsao == 0:\n",
        "  print('Deu ruim')\n",
        "  print(probabilidade)\n",
        "else:\n",
        "  print('Fechou ! \\o/')\n",
        "  print(probabilidade)"
      ],
      "id": "vLtAYvBpUylc",
      "execution_count": 29,
      "outputs": [
        {
          "output_type": "stream",
          "text": [
            "Deu ruim\n",
            "[[0.66693155 0.33306845]]\n"
          ],
          "name": "stdout"
        }
      ]
    },
    {
      "cell_type": "code",
      "metadata": {
        "id": "zdV0IwkxU20I"
      },
      "source": [
        ""
      ],
      "id": "zdV0IwkxU20I",
      "execution_count": null,
      "outputs": []
    }
  ]
}